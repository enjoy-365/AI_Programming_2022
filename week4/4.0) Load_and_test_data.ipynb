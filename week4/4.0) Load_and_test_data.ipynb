{
 "cells": [
  {
   "cell_type": "code",
   "execution_count": 2,
   "id": "a9dd017b",
   "metadata": {},
   "outputs": [],
   "source": [
    "import numpy as np\n",
    "import pickle\n",
    "\n",
    "import matplotlib.pyplot as plt\n",
    "%matplotlib inline\n"
   ]
  },
  {
   "cell_type": "code",
   "execution_count": 6,
   "id": "9000143b",
   "metadata": {},
   "outputs": [],
   "source": [
    "import urllib\n",
    "target_url = 'http://aais.hanyang.ac.kr/classes/2022_Datasets/Dataset1'\n",
    "with urllib.request.urlopen(target_url) as handle:\n",
    "    data = pickle.load(handle)\n",
    "    y = pickle.load(handle)\n",
    "    testdata = pickle.load(handle)\n",
    "    testy = pickle.load(handle)\n"
   ]
  },
  {
   "cell_type": "code",
   "execution_count": 7,
   "id": "dd285161",
   "metadata": {},
   "outputs": [
    {
     "name": "stdout",
     "output_type": "stream",
     "text": [
      "(700, 200) (350, 200)\n"
     ]
    }
   ],
   "source": [
    "print(data.shape, testdata.shape)"
   ]
  },
  {
   "cell_type": "code",
   "execution_count": 8,
   "id": "5c92bcea",
   "metadata": {},
   "outputs": [
    {
     "name": "stdout",
     "output_type": "stream",
     "text": [
      "350 350\n",
      "0.18285714285714286\n",
      "700 700\n",
      "0.0\n"
     ]
    },
    {
     "name": "stderr",
     "output_type": "stream",
     "text": [
      "/root/anaconda3/lib/python3.8/site-packages/sklearn/linear_model/_logistic.py:814: ConvergenceWarning: lbfgs failed to converge (status=1):\n",
      "STOP: TOTAL NO. of ITERATIONS REACHED LIMIT.\n",
      "\n",
      "Increase the number of iterations (max_iter) or scale the data as shown in:\n",
      "    https://scikit-learn.org/stable/modules/preprocessing.html\n",
      "Please also refer to the documentation for alternative solver options:\n",
      "    https://scikit-learn.org/stable/modules/linear_model.html#logistic-regression\n",
      "  n_iter_i = _check_optimize_result(\n"
     ]
    }
   ],
   "source": [
    "from sklearn import linear_model\n",
    "\n",
    "clf = linear_model.LogisticRegression(solver='lbfgs')\n",
    "clf.fit(data, y)\n",
    "\n",
    "# for testing data\n",
    "y_pred = clf.predict(testdata)\n",
    "print(len(y_pred), len(testy))\n",
    "print(np.sum((y_pred - testy)**2)/len(y_pred))\n",
    "\n",
    "# for training data\n",
    "y_pred = clf.predict(data)\n",
    "print(len(y_pred), len(y))\n",
    "print(np.sum((y_pred - y)**2)/len(y_pred))\n"
   ]
  },
  {
   "cell_type": "code",
   "execution_count": null,
   "id": "fc73ab3e",
   "metadata": {},
   "outputs": [],
   "source": []
  },
  {
   "cell_type": "code",
   "execution_count": 9,
   "id": "1341e1ed",
   "metadata": {},
   "outputs": [],
   "source": [
    "import urllib\n",
    "target_url = 'http://aais.hanyang.ac.kr/classes/2022_Datasets/Dataset3'\n",
    "with urllib.request.urlopen(target_url) as handle:\n",
    "    data = pickle.load(handle)\n",
    "    y = pickle.load(handle)\n",
    "    testdata = pickle.load(handle)\n",
    "    testy = pickle.load(handle)\n"
   ]
  },
  {
   "cell_type": "code",
   "execution_count": 10,
   "id": "29e66f9a",
   "metadata": {},
   "outputs": [
    {
     "name": "stdout",
     "output_type": "stream",
     "text": [
      "(60000, 784) (60000, 784)\n",
      "[4 1 0 ... 1 7 8]\n"
     ]
    }
   ],
   "source": [
    "print(data.shape, testdata.shape)\n",
    "print(y)"
   ]
  },
  {
   "cell_type": "code",
   "execution_count": null,
   "id": "af4d8b95",
   "metadata": {},
   "outputs": [],
   "source": []
  }
 ],
 "metadata": {
  "kernelspec": {
   "display_name": "Python 3 (ipykernel)",
   "language": "python",
   "name": "python3"
  },
  "language_info": {
   "codemirror_mode": {
    "name": "ipython",
    "version": 3
   },
   "file_extension": ".py",
   "mimetype": "text/x-python",
   "name": "python",
   "nbconvert_exporter": "python",
   "pygments_lexer": "ipython3",
   "version": "3.8.12"
  }
 },
 "nbformat": 4,
 "nbformat_minor": 5
}
