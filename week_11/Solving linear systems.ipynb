{
 "cells": [
  {
   "cell_type": "code",
   "execution_count": 1,
   "id": "b09a0ebd",
   "metadata": {},
   "outputs": [],
   "source": [
    "import os\n",
    "os.environ[\"CUDA_DEVICE_ORDER\"] = \"PCI_BUS_ID\"\n",
    "os.environ[\"CUDA_VISIBLE_DEVICES\"] = \"0\"\n"
   ]
  },
  {
   "cell_type": "code",
   "execution_count": 2,
   "id": "a70453e5",
   "metadata": {},
   "outputs": [],
   "source": [
    "import numpy as np\n",
    "from datetime import datetime \n",
    "from my_cuda import solve_cuda64"
   ]
  },
  {
   "cell_type": "markdown",
   "id": "9352ae6d",
   "metadata": {},
   "source": [
    "### Sove $\\mathbf{x}$ satisfying $A\\mathbf{x} = b$\n"
   ]
  },
  {
   "cell_type": "code",
   "execution_count": 13,
   "id": "cda3a721",
   "metadata": {},
   "outputs": [
    {
     "name": "stdout",
     "output_type": "stream",
     "text": [
      "(200, 200) (200,)\n"
     ]
    }
   ],
   "source": [
    "dim = 200\n",
    "# dim = 20\n",
    "A = np.random.randn(dim,dim).astype(np.float64)\n",
    "A = np.matmul(A.T, A)\n",
    "b = np.random.randn(dim).astype(np.float64)\n",
    "print(A.shape, b.shape)\n"
   ]
  },
  {
   "cell_type": "markdown",
   "id": "46301740",
   "metadata": {},
   "source": [
    "$\\mathbf{x} = A^{-1}b$"
   ]
  },
  {
   "cell_type": "code",
   "execution_count": 14,
   "id": "cf70ac09",
   "metadata": {},
   "outputs": [
    {
     "name": "stdout",
     "output_type": "stream",
     "text": [
      "inv elapsed time:\n",
      "Time elapsed (hh:mm:ss.ms) 0:00:00.762921\n"
     ]
    }
   ],
   "source": [
    "start_time = datetime.now()\n",
    "x = np.matmul(np.linalg.inv(A), b)\n",
    "time_elapsed = datetime.now() - start_time \n",
    "print('inv elapsed time:')\n",
    "print('Time elapsed (hh:mm:ss.ms) {}'.format(time_elapsed))"
   ]
  },
  {
   "cell_type": "code",
   "execution_count": 15,
   "id": "257c4206",
   "metadata": {},
   "outputs": [
    {
     "name": "stdout",
     "output_type": "stream",
     "text": [
      "[ 0.80085396 -1.78442913 -1.56541704  0.49102301 -1.56689102] \n",
      " [ 0.80085396 -1.78442913 -1.56541704  0.49102301 -1.56689102]\n"
     ]
    }
   ],
   "source": [
    "b_predict = np.matmul(A, x)\n",
    "print(b_predict[0:5], '\\n', b[0:5])"
   ]
  },
  {
   "cell_type": "markdown",
   "id": "ec83afdf",
   "metadata": {},
   "source": [
    "Use np.linalg.solve"
   ]
  },
  {
   "cell_type": "code",
   "execution_count": 16,
   "id": "98274fef",
   "metadata": {
    "scrolled": true
   },
   "outputs": [
    {
     "name": "stdout",
     "output_type": "stream",
     "text": [
      "linear system solver elapsed time:\n",
      "Time elapsed (hh:mm:ss.ms) 0:00:00.220677\n",
      "x=: [ 11.71280031  16.72438469  12.39190056   6.50830082 -11.31656441] \n",
      " prev x= [ 11.71280031  16.72438469  12.39190056   6.50830082 -11.31656441]\n"
     ]
    }
   ],
   "source": [
    "start_time = datetime.now()\n",
    "x1 = np.linalg.solve(A, b)\n",
    "time_elapsed = datetime.now() - start_time \n",
    "print('linear system solver elapsed time:')\n",
    "print('Time elapsed (hh:mm:ss.ms) {}'.format(time_elapsed))\n",
    "\n",
    "print('x=:', x1[0:5], '\\n', 'prev x=', x[0:5])"
   ]
  },
  {
   "cell_type": "markdown",
   "id": "81e851b3",
   "metadata": {},
   "source": [
    "Vanilla Gauss Elimination using for loops"
   ]
  },
  {
   "cell_type": "code",
   "execution_count": 18,
   "id": "1c3c7cac",
   "metadata": {},
   "outputs": [
    {
     "name": "stdout",
     "output_type": "stream",
     "text": [
      "Gauss Elimination #1 elapsed time:\n",
      "Time elapsed (hh:mm:ss.ms) 0:00:11.133814\n"
     ]
    }
   ],
   "source": [
    "WorkMat = np.concatenate([A, b.reshape([-1,1])], axis=1)\n",
    "\n",
    "start_time = datetime.now()\n",
    "for icnt1 in range(dim):   # sequential\n",
    "    for icnt2 in range(dim):   # thread per icnt2\n",
    "        if icnt2 == icnt1:\n",
    "            continue\n",
    "        curRatio = WorkMat[icnt2,icnt1]/WorkMat[icnt1,icnt1]\n",
    "        for icnt3 in range(dim + 1):\n",
    "            WorkMat[icnt2,icnt3] = WorkMat[icnt2,icnt3] - WorkMat[icnt1,icnt3]*curRatio\n",
    "for icnt1 in range(dim):\n",
    "    WorkMat[icnt1,dim] = WorkMat[icnt1,dim]/WorkMat[icnt1,icnt1]\n",
    "    WorkMat[icnt1,icnt1] = 1\n",
    "\n",
    "time_elapsed = datetime.now() - start_time \n",
    "print('Gauss Elimination #1 elapsed time:')\n",
    "print('Time elapsed (hh:mm:ss.ms) {}'.format(time_elapsed))\n"
   ]
  },
  {
   "cell_type": "code",
   "execution_count": null,
   "id": "673c664c",
   "metadata": {},
   "outputs": [],
   "source": []
  },
  {
   "cell_type": "markdown",
   "id": "5bc253c1",
   "metadata": {},
   "source": [
    "### my cuda"
   ]
  },
  {
   "cell_type": "code",
   "execution_count": 17,
   "id": "2fde26f2",
   "metadata": {},
   "outputs": [
    {
     "name": "stdout",
     "output_type": "stream",
     "text": [
      "Gauss Elimination pycuda - my code - elapsed time:\n",
      "Time elapsed (hh:mm:ss.ms) 0:00:00.818804\n"
     ]
    }
   ],
   "source": [
    "start_time = datetime.now()\n",
    "\n",
    "x_mine = solve_cuda64(A, b)\n",
    "\n",
    "time_elapsed = datetime.now() - start_time \n",
    "print('Gauss Elimination pycuda - my code - elapsed time:')\n",
    "print('Time elapsed (hh:mm:ss.ms) {}'.format(time_elapsed))\n"
   ]
  },
  {
   "cell_type": "code",
   "execution_count": 9,
   "id": "f06e9618",
   "metadata": {},
   "outputs": [
    {
     "name": "stdout",
     "output_type": "stream",
     "text": [
      "(20,)\n"
     ]
    }
   ],
   "source": [
    "print(np.matmul(A, x_mine).shape)"
   ]
  },
  {
   "cell_type": "code",
   "execution_count": 10,
   "id": "bebbf162",
   "metadata": {},
   "outputs": [
    {
     "name": "stdout",
     "output_type": "stream",
     "text": [
      "x=: [ 29.90541173  35.52667844   9.47146743  -7.04397768 -19.58534499] \n",
      " prev x= [ 29.90541173  35.52667844   9.47146743  -7.04397768 -19.58534499]\n"
     ]
    }
   ],
   "source": [
    "\n",
    "print('x=:', x_mine[0:5], '\\n', 'prev x=', x[0:5])"
   ]
  },
  {
   "cell_type": "code",
   "execution_count": 11,
   "id": "56032265",
   "metadata": {},
   "outputs": [
    {
     "name": "stdout",
     "output_type": "stream",
     "text": [
      "[-0.61574601  2.83341868  0.02200844 -1.08490053 -1.65665959] \n",
      " [-0.61574601  2.83341868  0.02200844 -1.08490053 -1.65665959]\n"
     ]
    }
   ],
   "source": [
    "b_predict = np.matmul(A, x_mine)\n",
    "print(b_predict[0:5], '\\n', b[0:5])"
   ]
  },
  {
   "cell_type": "code",
   "execution_count": null,
   "id": "634691f3",
   "metadata": {},
   "outputs": [],
   "source": []
  }
 ],
 "metadata": {
  "kernelspec": {
   "display_name": "Python 3",
   "language": "python",
   "name": "python3"
  },
  "language_info": {
   "codemirror_mode": {
    "name": "ipython",
    "version": 3
   },
   "file_extension": ".py",
   "mimetype": "text/x-python",
   "name": "python",
   "nbconvert_exporter": "python",
   "pygments_lexer": "ipython3",
   "version": "3.8.8"
  }
 },
 "nbformat": 4,
 "nbformat_minor": 5
}
