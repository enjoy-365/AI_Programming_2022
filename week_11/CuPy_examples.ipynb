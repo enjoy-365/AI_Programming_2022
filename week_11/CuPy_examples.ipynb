{
 "cells": [
  {
   "cell_type": "code",
   "execution_count": 1,
   "id": "835e965b",
   "metadata": {},
   "outputs": [
    {
     "name": "stdout",
     "output_type": "stream",
     "text": [
      "Fri May 13 06:06:28 2022       \n",
      "+-----------------------------------------------------------------------------+\n",
      "| NVIDIA-SMI 510.47.03    Driver Version: 510.47.03    CUDA Version: 11.6     |\n",
      "|-------------------------------+----------------------+----------------------+\n",
      "| GPU  Name        Persistence-M| Bus-Id        Disp.A | Volatile Uncorr. ECC |\n",
      "| Fan  Temp  Perf  Pwr:Usage/Cap|         Memory-Usage | GPU-Util  Compute M. |\n",
      "|                               |                      |               MIG M. |\n",
      "|===============================+======================+======================|\n",
      "|   0  Tesla V100-DGXS...  On   | 00000000:07:00.0 Off |                    0 |\n",
      "| N/A   43C    P0    51W / 300W |    924MiB / 32768MiB |      0%      Default |\n",
      "|                               |                      |                  N/A |\n",
      "+-------------------------------+----------------------+----------------------+\n",
      "|   1  Tesla V100-DGXS...  On   | 00000000:08:00.0 Off |                    0 |\n",
      "| N/A   41C    P0    39W / 300W |      4MiB / 32768MiB |      0%      Default |\n",
      "|                               |                      |                  N/A |\n",
      "+-------------------------------+----------------------+----------------------+\n",
      "|   2  Tesla V100-DGXS...  On   | 00000000:0E:00.0 Off |                    0 |\n",
      "| N/A   42C    P0    39W / 300W |      4MiB / 32768MiB |      0%      Default |\n",
      "|                               |                      |                  N/A |\n",
      "+-------------------------------+----------------------+----------------------+\n",
      "|   3  Tesla V100-DGXS...  On   | 00000000:0F:00.0 Off |                    0 |\n",
      "| N/A   43C    P0   110W / 300W |  25074MiB / 32768MiB |     42%      Default |\n",
      "|                               |                      |                  N/A |\n",
      "+-------------------------------+----------------------+----------------------+\n",
      "                                                                               \n",
      "+-----------------------------------------------------------------------------+\n",
      "| Processes:                                                                  |\n",
      "|  GPU   GI   CI        PID   Type   Process name                  GPU Memory |\n",
      "|        ID   ID                                                   Usage      |\n",
      "|=============================================================================|\n",
      "|    0   N/A  N/A      2305      G                                       9MiB |\n",
      "|    0   N/A  N/A      2675      G                                      15MiB |\n",
      "|    0   N/A  N/A     23328      C                                     892MiB |\n",
      "|    3   N/A  N/A      3022      C                                    1169MiB |\n",
      "|    3   N/A  N/A      3023      C                                    1271MiB |\n",
      "|    3   N/A  N/A      3024      C                                    1271MiB |\n",
      "|    3   N/A  N/A      3025      C                                    1255MiB |\n",
      "|    3   N/A  N/A      3026      C                                    1255MiB |\n",
      "|    3   N/A  N/A      3027      C                                    1271MiB |\n",
      "|    3   N/A  N/A      3028      C                                    1271MiB |\n",
      "|    3   N/A  N/A      3029      C                                    1271MiB |\n",
      "|    3   N/A  N/A      3030      C                                    1255MiB |\n",
      "|    3   N/A  N/A      3031      C                                    1255MiB |\n",
      "|    3   N/A  N/A      3032      C                                    1271MiB |\n",
      "|    3   N/A  N/A      3033      C                                    1271MiB |\n",
      "|    3   N/A  N/A      3034      C                                    1255MiB |\n",
      "|    3   N/A  N/A      3035      C                                    1255MiB |\n",
      "|    3   N/A  N/A      3036      C                                    1255MiB |\n",
      "|    3   N/A  N/A      3037      C                                    1255MiB |\n",
      "|    3   N/A  N/A      3038      C                                    1271MiB |\n",
      "|    3   N/A  N/A      3039      C                                    1255MiB |\n",
      "|    3   N/A  N/A      3040      C                                    1271MiB |\n",
      "|    3   N/A  N/A      3041      C                                    1255MiB |\n",
      "+-----------------------------------------------------------------------------+\n"
     ]
    }
   ],
   "source": [
    "!nvidia-smi"
   ]
  },
  {
   "cell_type": "markdown",
   "id": "f9b78af3",
   "metadata": {},
   "source": []
  },
  {
   "cell_type": "code",
   "execution_count": 3,
   "id": "a01edd30",
   "metadata": {},
   "outputs": [],
   "source": [
    "import os\n",
    "os.environ[\"CUDA_DEVICE_ORDER\"] = \"PCI_BUS_ID\"\n",
    "os.environ[\"CUDA_VISIBLE_DEVICES\"] = \"0\"\n",
    "\n",
    "import numpy as np\n",
    "import cupy as cp\n",
    "import time"
   ]
  },
  {
   "cell_type": "markdown",
   "id": "27a35050",
   "metadata": {},
   "source": [
    "https://towardsdatascience.com/heres-how-to-use-cupy-to-make-numpy-700x-faster-4b920dda1f56"
   ]
  },
  {
   "cell_type": "code",
   "execution_count": 5,
   "id": "1c192835",
   "metadata": {},
   "outputs": [
    {
     "name": "stdout",
     "output_type": "stream",
     "text": [
      "1.2191863059997559\n",
      "0.024309873580932617\n"
     ]
    }
   ],
   "source": [
    "### Numpy and CPU\n",
    "s = time.time()\n",
    "x_cpu = np.ones((1000,1000,1000))\n",
    "e = time.time()\n",
    "print(e - s)\n",
    "\n",
    "### CuPy and GPU\n",
    "s = time.time()\n",
    "x_gpu = cp.ones((1000,1000,1000))\n",
    "cp.cuda.Stream.null.synchronize()\n",
    "e = time.time()\n",
    "print(e - s)"
   ]
  },
  {
   "cell_type": "code",
   "execution_count": 6,
   "id": "4e6d35b7",
   "metadata": {},
   "outputs": [
    {
     "name": "stdout",
     "output_type": "stream",
     "text": [
      "1.1549289226531982\n",
      "0.022001981735229492\n"
     ]
    }
   ],
   "source": [
    "### Numpy and CPU\n",
    "s = time.time()\n",
    "x_cpu *= 5\n",
    "e = time.time()\n",
    "print(e - s)\n",
    "\n",
    "### CuPy and GPU\n",
    "s = time.time()\n",
    "x_gpu *= 5\n",
    "cp.cuda.Stream.null.synchronize()\n",
    "e = time.time()\n",
    "print(e - s)"
   ]
  },
  {
   "cell_type": "code",
   "execution_count": 7,
   "id": "aca3a5d9",
   "metadata": {},
   "outputs": [
    {
     "name": "stdout",
     "output_type": "stream",
     "text": [
      "3.3305695056915283\n",
      "0.05978250503540039\n"
     ]
    }
   ],
   "source": [
    "### Numpy and CPU\n",
    "s = time.time()\n",
    "x_cpu *= 5\n",
    "x_cpu *= x_cpu\n",
    "x_cpu += x_cpu\n",
    "e = time.time()\n",
    "print(e - s)\n",
    "\n",
    "### CuPy and GPU\n",
    "s = time.time()\n",
    "x_gpu *= 5\n",
    "x_gpu *= x_gpu\n",
    "x_gpu += x_gpu\n",
    "cp.cuda.Stream.null.synchronize()\n",
    "e = time.time()\n",
    "print(e - s)"
   ]
  }
 ],
 "metadata": {
  "kernelspec": {
   "display_name": "Python 3",
   "language": "python",
   "name": "python3"
  },
  "language_info": {
   "codemirror_mode": {
    "name": "ipython",
    "version": 3
   },
   "file_extension": ".py",
   "mimetype": "text/x-python",
   "name": "python",
   "nbconvert_exporter": "python",
   "pygments_lexer": "ipython3",
   "version": "3.8.8"
  }
 },
 "nbformat": 4,
 "nbformat_minor": 5
}
