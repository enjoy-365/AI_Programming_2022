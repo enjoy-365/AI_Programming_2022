{
 "cells": [
  {
   "cell_type": "code",
   "execution_count": 1,
   "id": "18839483",
   "metadata": {},
   "outputs": [],
   "source": [
    "import os\n",
    "os.environ[\"CUDA_DEVICE_ORDER\"] = \"PCI_BUS_ID\"\n",
    "os.environ[\"CUDA_VISIBLE_DEVICES\"] = \"0\"\n",
    "\n",
    "import matplotlib.pyplot as plt\n",
    "import numpy as np\n",
    "import cupy as cp\n",
    "from my_cuda import calculateKDEs_cuda, calculateDist_cuda\n",
    "\n",
    "import time"
   ]
  },
  {
   "cell_type": "code",
   "execution_count": 7,
   "id": "ffdf623a",
   "metadata": {},
   "outputs": [],
   "source": [
    "# datanum1 = 2000\n",
    "# datanum2 = 10000\n",
    "datanum1 = 2000\n",
    "datanum2 = 100000\n",
    "# datanum1 = 2000\n",
    "# datanum2 = 1000000\n",
    "dim = 10\n",
    "# dim = 50\n",
    "mean1 = np.concatenate([np.array([-1]), np.zeros((dim-1,))])\n",
    "Cov1 = np.diag(np.concatenate([np.array([2.]), np.ones((dim-1,))]))\n",
    "mean2 = np.concatenate([np.array([1]), np.zeros((dim-1,))])\n",
    "Cov2 = np.diag(np.concatenate([np.array([1.]), np.ones((dim-1,))]))\n",
    "\n",
    "L = cp.linalg.cholesky(cp.array(Cov1))\n",
    "data1_cp = cp.matmul(cp.random.randn(datanum1, dim), L.T) + cp.array(mean1)  # data in gpu\n",
    "data1 = data1_cp.get()   # data in cpu\n",
    "L = cp.linalg.cholesky(cp.array(Cov2))\n",
    "data2_cp = cp.matmul(cp.random.randn(datanum2, dim), L.T) + cp.array(mean2)   # data in gpu\n",
    "data2 = data2_cp.get()   # data in cpu\n"
   ]
  },
  {
   "cell_type": "markdown",
   "id": "7eab1e5b",
   "metadata": {},
   "source": [
    "### Kernel Density Estimation"
   ]
  },
  {
   "cell_type": "code",
   "execution_count": 8,
   "id": "d956b6a1",
   "metadata": {},
   "outputs": [
    {
     "name": "stdout",
     "output_type": "stream",
     "text": [
      "K.shape: (2000, 100000)\n",
      "densities: [9.7342354e-07 2.7968634e-08 5.3161664e-08 ... 5.8065456e-08 2.0244570e-07\n",
      " 3.0563712e-09]\n",
      "Kernel calculation time: 1.5837373733520508\n"
     ]
    }
   ],
   "source": [
    "# pyCUDA\n",
    "\n",
    "h_bandwidth = 1.0\n",
    "s = time.time()\n",
    "K = calculateKDEs_cuda(data1, data2, h_bandwidth)\n",
    "print('K.shape:', K.shape)\n",
    "e = time.time()\n",
    "p_kde = np.mean(K, axis=1)\n",
    "print('densities:', p_kde)\n",
    "print('Kernel calculation time:', e - s)"
   ]
  },
  {
   "cell_type": "code",
   "execution_count": 9,
   "id": "55716fc3",
   "metadata": {},
   "outputs": [
    {
     "name": "stdout",
     "output_type": "stream",
     "text": [
      "K.shape: (2000, 100000)\n",
      "densities: [9.73423679e-07 2.79686399e-08 5.31616635e-08 ... 5.80654621e-08\n",
      " 2.02445697e-07 3.05637162e-09]\n",
      "Kernel calculation time: 330.522901058197\n"
     ]
    }
   ],
   "source": [
    "# CPU\n",
    "def getKernels(data1, data2, h_bandwidth):\n",
    "    datanum1, dim = data1.shape\n",
    "    datanum2 = len(data2)\n",
    "    lnps = (np.matmul(data1, data2.T) - \\\n",
    "        0.5*np.array([np.diag(np.matmul(data1, data1.T))]).T - \\\n",
    "        0.5*np.array([np.diag(np.matmul(data2, data2.T))]))/h_bandwidth - \\\n",
    "        0.5*dim*np.log(2*np.pi) - 0.5*dim*np.log(h_bandwidth)\n",
    "    return np.exp(lnps)\n",
    "\n",
    "h_bandwidth = 1.0\n",
    "s = time.time()\n",
    "K = getKernels(data1, data2, h_bandwidth)\n",
    "print('K.shape:', K.shape)\n",
    "e = time.time()\n",
    "p_kde = np.mean(K, axis=1)\n",
    "print('densities:', p_kde)\n",
    "print('Kernel calculation time:', e - s)"
   ]
  },
  {
   "cell_type": "code",
   "execution_count": 10,
   "id": "a4c79110",
   "metadata": {},
   "outputs": [
    {
     "ename": "OutOfMemoryError",
     "evalue": "Out of memory allocating 80,000,000,000 bytes (allocated so far: 4,353,924,096 bytes).",
     "output_type": "error",
     "traceback": [
      "\u001b[0;31m---------------------------------------------------------------------------\u001b[0m",
      "\u001b[0;31mOutOfMemoryError\u001b[0m                          Traceback (most recent call last)",
      "\u001b[0;32m<ipython-input-10-b94c9a42a0a7>\u001b[0m in \u001b[0;36m<module>\u001b[0;34m\u001b[0m\n\u001b[1;32m     12\u001b[0m \u001b[0ms\u001b[0m \u001b[0;34m=\u001b[0m \u001b[0mtime\u001b[0m\u001b[0;34m.\u001b[0m\u001b[0mtime\u001b[0m\u001b[0;34m(\u001b[0m\u001b[0;34m)\u001b[0m\u001b[0;34m\u001b[0m\u001b[0;34m\u001b[0m\u001b[0m\n\u001b[1;32m     13\u001b[0m \u001b[0;31m## generated data are still in gpu memory\u001b[0m\u001b[0;34m\u001b[0m\u001b[0;34m\u001b[0m\u001b[0;34m\u001b[0m\u001b[0m\n\u001b[0;32m---> 14\u001b[0;31m \u001b[0mK\u001b[0m \u001b[0;34m=\u001b[0m \u001b[0mgetCuPyKernels\u001b[0m\u001b[0;34m(\u001b[0m\u001b[0mdata1_cp\u001b[0m\u001b[0;34m,\u001b[0m \u001b[0mdata2_cp\u001b[0m\u001b[0;34m,\u001b[0m \u001b[0mh_bandwidth\u001b[0m\u001b[0;34m)\u001b[0m\u001b[0;34m\u001b[0m\u001b[0;34m\u001b[0m\u001b[0m\n\u001b[0m\u001b[1;32m     15\u001b[0m \u001b[0;31m# ============================================\u001b[0m\u001b[0;34m\u001b[0m\u001b[0;34m\u001b[0m\u001b[0;34m\u001b[0m\u001b[0m\n\u001b[1;32m     16\u001b[0m \u001b[0;31m# ## transfer data intp gpu memory first\u001b[0m\u001b[0;34m\u001b[0m\u001b[0;34m\u001b[0m\u001b[0;34m\u001b[0m\u001b[0m\n",
      "\u001b[0;32m<ipython-input-10-b94c9a42a0a7>\u001b[0m in \u001b[0;36mgetCuPyKernels\u001b[0;34m(data1_cp, data2_cp, h_bandwidth)\u001b[0m\n\u001b[1;32m      5\u001b[0m     lnps = (cp.matmul(data1_cp, data2_cp.T) - \\\n\u001b[1;32m      6\u001b[0m         \u001b[0;36m0.5\u001b[0m\u001b[0;34m*\u001b[0m\u001b[0mcp\u001b[0m\u001b[0;34m.\u001b[0m\u001b[0marray\u001b[0m\u001b[0;34m(\u001b[0m\u001b[0;34m[\u001b[0m\u001b[0mcp\u001b[0m\u001b[0;34m.\u001b[0m\u001b[0mdiag\u001b[0m\u001b[0;34m(\u001b[0m\u001b[0mcp\u001b[0m\u001b[0;34m.\u001b[0m\u001b[0mmatmul\u001b[0m\u001b[0;34m(\u001b[0m\u001b[0mdata1_cp\u001b[0m\u001b[0;34m,\u001b[0m \u001b[0mdata1_cp\u001b[0m\u001b[0;34m.\u001b[0m\u001b[0mT\u001b[0m\u001b[0;34m)\u001b[0m\u001b[0;34m)\u001b[0m\u001b[0;34m]\u001b[0m\u001b[0;34m)\u001b[0m\u001b[0;34m.\u001b[0m\u001b[0mT\u001b[0m \u001b[0;34m-\u001b[0m\u001b[0;31m \u001b[0m\u001b[0;31m\\\u001b[0m\u001b[0;34m\u001b[0m\u001b[0;34m\u001b[0m\u001b[0m\n\u001b[0;32m----> 7\u001b[0;31m         0.5*cp.array([cp.diag(cp.matmul(data2_cp, data2_cp.T))]))/h_bandwidth - \\\n\u001b[0m\u001b[1;32m      8\u001b[0m         \u001b[0;36m0.5\u001b[0m\u001b[0;34m*\u001b[0m\u001b[0mdim\u001b[0m\u001b[0;34m*\u001b[0m\u001b[0mcp\u001b[0m\u001b[0;34m.\u001b[0m\u001b[0mlog\u001b[0m\u001b[0;34m(\u001b[0m\u001b[0;36m2\u001b[0m\u001b[0;34m*\u001b[0m\u001b[0mcp\u001b[0m\u001b[0;34m.\u001b[0m\u001b[0mpi\u001b[0m\u001b[0;34m)\u001b[0m \u001b[0;34m-\u001b[0m \u001b[0;36m0.5\u001b[0m\u001b[0;34m*\u001b[0m\u001b[0mdim\u001b[0m\u001b[0;34m*\u001b[0m\u001b[0mcp\u001b[0m\u001b[0;34m.\u001b[0m\u001b[0mlog\u001b[0m\u001b[0;34m(\u001b[0m\u001b[0mh_bandwidth\u001b[0m\u001b[0;34m)\u001b[0m\u001b[0;34m\u001b[0m\u001b[0;34m\u001b[0m\u001b[0m\n\u001b[1;32m      9\u001b[0m     \u001b[0;32mreturn\u001b[0m \u001b[0mcp\u001b[0m\u001b[0;34m.\u001b[0m\u001b[0mexp\u001b[0m\u001b[0;34m(\u001b[0m\u001b[0mlnps\u001b[0m\u001b[0;34m)\u001b[0m\u001b[0;34m\u001b[0m\u001b[0;34m\u001b[0m\u001b[0m\n",
      "\u001b[0;32m~/anaconda3/lib/python3.8/site-packages/cupy/_core/_gufuncs.py\u001b[0m in \u001b[0;36m__call__\u001b[0;34m(self, *args, **kwargs)\u001b[0m\n\u001b[1;32m    669\u001b[0m \u001b[0;34m\u001b[0m\u001b[0m\n\u001b[1;32m    670\u001b[0m         \u001b[0;32mif\u001b[0m \u001b[0mouts\u001b[0m \u001b[0;32mis\u001b[0m \u001b[0;32mNone\u001b[0m\u001b[0;34m:\u001b[0m\u001b[0;34m\u001b[0m\u001b[0;34m\u001b[0m\u001b[0m\n\u001b[0;32m--> 671\u001b[0;31m             \u001b[0mouts\u001b[0m \u001b[0;34m=\u001b[0m \u001b[0mcupy\u001b[0m\u001b[0;34m.\u001b[0m\u001b[0mempty\u001b[0m\u001b[0;34m(\u001b[0m\u001b[0mout_shape\u001b[0m\u001b[0;34m,\u001b[0m \u001b[0mdtype\u001b[0m\u001b[0;34m=\u001b[0m\u001b[0mret_dtype\u001b[0m\u001b[0;34m,\u001b[0m \u001b[0morder\u001b[0m\u001b[0;34m=\u001b[0m\u001b[0mfilter_order\u001b[0m\u001b[0;34m)\u001b[0m\u001b[0;34m\u001b[0m\u001b[0;34m\u001b[0m\u001b[0m\n\u001b[0m\u001b[1;32m    672\u001b[0m             \u001b[0;32mif\u001b[0m \u001b[0morder\u001b[0m \u001b[0;34m==\u001b[0m \u001b[0;34m'K'\u001b[0m\u001b[0;34m:\u001b[0m\u001b[0;34m\u001b[0m\u001b[0;34m\u001b[0m\u001b[0m\n\u001b[1;32m    673\u001b[0m                 strides = internal._get_strides_for_order_K(\n",
      "\u001b[0;32m~/anaconda3/lib/python3.8/site-packages/cupy/_creation/basic.py\u001b[0m in \u001b[0;36mempty\u001b[0;34m(shape, dtype, order)\u001b[0m\n\u001b[1;32m     20\u001b[0m \u001b[0;34m\u001b[0m\u001b[0m\n\u001b[1;32m     21\u001b[0m     \"\"\"\n\u001b[0;32m---> 22\u001b[0;31m     \u001b[0;32mreturn\u001b[0m \u001b[0mcupy\u001b[0m\u001b[0;34m.\u001b[0m\u001b[0mndarray\u001b[0m\u001b[0;34m(\u001b[0m\u001b[0mshape\u001b[0m\u001b[0;34m,\u001b[0m \u001b[0mdtype\u001b[0m\u001b[0;34m,\u001b[0m \u001b[0morder\u001b[0m\u001b[0;34m=\u001b[0m\u001b[0morder\u001b[0m\u001b[0;34m)\u001b[0m\u001b[0;34m\u001b[0m\u001b[0;34m\u001b[0m\u001b[0m\n\u001b[0m\u001b[1;32m     23\u001b[0m \u001b[0;34m\u001b[0m\u001b[0m\n\u001b[1;32m     24\u001b[0m \u001b[0;34m\u001b[0m\u001b[0m\n",
      "\u001b[0;32mcupy/_core/core.pyx\u001b[0m in \u001b[0;36mcupy._core.core.ndarray.__init__\u001b[0;34m()\u001b[0m\n",
      "\u001b[0;32mcupy/cuda/memory.pyx\u001b[0m in \u001b[0;36mcupy.cuda.memory.alloc\u001b[0;34m()\u001b[0m\n",
      "\u001b[0;32mcupy/cuda/memory.pyx\u001b[0m in \u001b[0;36mcupy.cuda.memory.MemoryPool.malloc\u001b[0;34m()\u001b[0m\n",
      "\u001b[0;32mcupy/cuda/memory.pyx\u001b[0m in \u001b[0;36mcupy.cuda.memory.MemoryPool.malloc\u001b[0;34m()\u001b[0m\n",
      "\u001b[0;32mcupy/cuda/memory.pyx\u001b[0m in \u001b[0;36mcupy.cuda.memory.SingleDeviceMemoryPool.malloc\u001b[0;34m()\u001b[0m\n",
      "\u001b[0;32mcupy/cuda/memory.pyx\u001b[0m in \u001b[0;36mcupy.cuda.memory.SingleDeviceMemoryPool._malloc\u001b[0;34m()\u001b[0m\n",
      "\u001b[0;32mcupy/cuda/memory.pyx\u001b[0m in \u001b[0;36mcupy.cuda.memory.SingleDeviceMemoryPool._try_malloc\u001b[0;34m()\u001b[0m\n",
      "\u001b[0;31mOutOfMemoryError\u001b[0m: Out of memory allocating 80,000,000,000 bytes (allocated so far: 4,353,924,096 bytes)."
     ]
    }
   ],
   "source": [
    "# CuPy\n",
    "def getCuPyKernels(data1_cp, data2_cp, h_bandwidth):\n",
    "    datanum1, dim = data1_cp.shape\n",
    "    datanum2 = len(data2_cp)\n",
    "    lnps = (cp.matmul(data1_cp, data2_cp.T) - \\\n",
    "        0.5*cp.array([cp.diag(cp.matmul(data1_cp, data1_cp.T))]).T - \\\n",
    "        0.5*cp.array([cp.diag(cp.matmul(data2_cp, data2_cp.T))]))/h_bandwidth - \\\n",
    "        0.5*dim*cp.log(2*cp.pi) - 0.5*dim*cp.log(h_bandwidth)\n",
    "    return cp.exp(lnps)\n",
    "\n",
    "h_bandwidth = 1.0\n",
    "s = time.time()\n",
    "## generated data are still in gpu memory\n",
    "K = getCuPyKernels(data1_cp, data2_cp, h_bandwidth)\n",
    "# ============================================\n",
    "# ## transfer data intp gpu memory first\n",
    "# data1_cp2 = cp.array(data1)\n",
    "# data2_cp2 = cp.array(data2)\n",
    "# K = getCuPyKernels(data1_cp2, data2_cp2, h_bandwidth)\n",
    "# ============================================\n",
    "e = time.time()\n",
    "p_kde = cp.mean(K, axis=1)\n",
    "print('densities:', p_kde)\n",
    "print('Kernel calculation time:', e - s)"
   ]
  },
  {
   "cell_type": "code",
   "execution_count": null,
   "id": "7c301abb",
   "metadata": {},
   "outputs": [],
   "source": []
  },
  {
   "cell_type": "code",
   "execution_count": 6,
   "id": "e05d2589",
   "metadata": {},
   "outputs": [
    {
     "name": "stdout",
     "output_type": "stream",
     "text": [
      "Fri May 13 06:27:03 2022       \n",
      "+-----------------------------------------------------------------------------+\n",
      "| NVIDIA-SMI 510.47.03    Driver Version: 510.47.03    CUDA Version: 11.6     |\n",
      "|-------------------------------+----------------------+----------------------+\n",
      "| GPU  Name        Persistence-M| Bus-Id        Disp.A | Volatile Uncorr. ECC |\n",
      "| Fan  Temp  Perf  Pwr:Usage/Cap|         Memory-Usage | GPU-Util  Compute M. |\n",
      "|                               |                      |               MIG M. |\n",
      "|===============================+======================+======================|\n",
      "|   0  Tesla V100-DGXS...  On   | 00000000:07:00.0 Off |                    0 |\n",
      "| N/A   43C    P0    51W / 300W |  18507MiB / 32768MiB |      0%      Default |\n",
      "|                               |                      |                  N/A |\n",
      "+-------------------------------+----------------------+----------------------+\n",
      "|   1  Tesla V100-DGXS...  On   | 00000000:08:00.0 Off |                    0 |\n",
      "| N/A   41C    P0    40W / 300W |      4MiB / 32768MiB |      0%      Default |\n",
      "|                               |                      |                  N/A |\n",
      "+-------------------------------+----------------------+----------------------+\n",
      "|   2  Tesla V100-DGXS...  On   | 00000000:0E:00.0 Off |                    0 |\n",
      "| N/A   42C    P0    39W / 300W |      4MiB / 32768MiB |      0%      Default |\n",
      "|                               |                      |                  N/A |\n",
      "+-------------------------------+----------------------+----------------------+\n",
      "|   3  Tesla V100-DGXS...  On   | 00000000:0F:00.0 Off |                    0 |\n",
      "| N/A   43C    P0   106W / 300W |  25334MiB / 32768MiB |    100%      Default |\n",
      "|                               |                      |                  N/A |\n",
      "+-------------------------------+----------------------+----------------------+\n",
      "                                                                               \n",
      "+-----------------------------------------------------------------------------+\n",
      "| Processes:                                                                  |\n",
      "|  GPU   GI   CI        PID   Type   Process name                  GPU Memory |\n",
      "|        ID   ID                                                   Usage      |\n",
      "|=============================================================================|\n",
      "|    0   N/A  N/A      2305      G                                       9MiB |\n",
      "|    0   N/A  N/A      2675      G                                      15MiB |\n",
      "|    0   N/A  N/A      3019      C                                   15591MiB |\n",
      "|    0   N/A  N/A     23328      C                                     892MiB |\n",
      "|    0   N/A  N/A     37113      C                                    1992MiB |\n",
      "|    3   N/A  N/A      3022      C                                    1271MiB |\n",
      "|    3   N/A  N/A      3023      C                                    1271MiB |\n",
      "|    3   N/A  N/A      3024      C                                    1271MiB |\n",
      "|    3   N/A  N/A      3025      C                                    1271MiB |\n",
      "|    3   N/A  N/A      3026      C                                    1271MiB |\n",
      "|    3   N/A  N/A      3027      C                                    1271MiB |\n",
      "|    3   N/A  N/A      3028      C                                    1255MiB |\n",
      "|    3   N/A  N/A      3029      C                                    1255MiB |\n",
      "|    3   N/A  N/A      3030      C                                    1271MiB |\n",
      "|    3   N/A  N/A      3031      C                                    1271MiB |\n",
      "|    3   N/A  N/A      3032      C                                    1255MiB |\n",
      "|    3   N/A  N/A      3033      C                                    1271MiB |\n",
      "|    3   N/A  N/A      3034      C                                    1271MiB |\n",
      "|    3   N/A  N/A      3035      C                                    1271MiB |\n",
      "|    3   N/A  N/A      3036      C                                    1255MiB |\n",
      "|    3   N/A  N/A      3037      C                                    1255MiB |\n",
      "|    3   N/A  N/A      3038      C                                    1271MiB |\n",
      "|    3   N/A  N/A      3039      C                                    1271MiB |\n",
      "|    3   N/A  N/A      3040      C                                    1255MiB |\n",
      "|    3   N/A  N/A      3041      C                                    1271MiB |\n",
      "+-----------------------------------------------------------------------------+\n"
     ]
    }
   ],
   "source": [
    "!nvidia-smi"
   ]
  },
  {
   "cell_type": "code",
   "execution_count": null,
   "id": "13739760",
   "metadata": {},
   "outputs": [],
   "source": []
  },
  {
   "cell_type": "markdown",
   "id": "c9002e58",
   "metadata": {},
   "source": [
    "### Distance Calculation"
   ]
  },
  {
   "cell_type": "code",
   "execution_count": 11,
   "id": "1ebaa2e0",
   "metadata": {},
   "outputs": [
    {
     "name": "stdout",
     "output_type": "stream",
     "text": [
      "[[27.329659  10.323825  27.219032  ...  4.9197016 19.157457   7.5071216]\n",
      " [18.909302  21.776083  29.575815  ... 33.115864  35.68752   41.647614 ]\n",
      " [29.663132  17.583088  31.917288  ... 30.42972    9.37299   27.697157 ]\n",
      " ...\n",
      " [30.94524   18.845654  45.036934  ... 31.628178  28.01748   36.294556 ]\n",
      " [31.645567  13.740578  33.56538   ... 19.403912  23.37553   28.95898  ]\n",
      " [39.54281   36.505802  57.928974  ... 30.48542   40.183876  47.062836 ]]\n",
      "1.2581040859222412\n"
     ]
    }
   ],
   "source": [
    "s = time.time()\n",
    "DistSqMat = calculateDist_cuda(data1, data2)\n",
    "e = time.time()\n",
    "\n",
    "print(DistSqMat)\n",
    "print(e - s)"
   ]
  },
  {
   "cell_type": "code",
   "execution_count": 12,
   "id": "93249c97",
   "metadata": {},
   "outputs": [
    {
     "ename": "OutOfMemoryError",
     "evalue": "Out of memory allocating 80,000,000,000 bytes (allocated so far: 3,232,801,280 bytes).",
     "output_type": "error",
     "traceback": [
      "\u001b[0;31m---------------------------------------------------------------------------\u001b[0m",
      "\u001b[0;31mOutOfMemoryError\u001b[0m                          Traceback (most recent call last)",
      "\u001b[0;32m<ipython-input-12-111dea2521c6>\u001b[0m in \u001b[0;36m<module>\u001b[0;34m\u001b[0m\n\u001b[1;32m      7\u001b[0m \u001b[0;34m\u001b[0m\u001b[0m\n\u001b[1;32m      8\u001b[0m \u001b[0ms\u001b[0m \u001b[0;34m=\u001b[0m \u001b[0mtime\u001b[0m\u001b[0;34m.\u001b[0m\u001b[0mtime\u001b[0m\u001b[0;34m(\u001b[0m\u001b[0;34m)\u001b[0m\u001b[0;34m\u001b[0m\u001b[0;34m\u001b[0m\u001b[0m\n\u001b[0;32m----> 9\u001b[0;31m \u001b[0mDistSqs\u001b[0m \u001b[0;34m=\u001b[0m \u001b[0mgetCuPyDist\u001b[0m\u001b[0;34m(\u001b[0m\u001b[0mdata1_cp\u001b[0m\u001b[0;34m,\u001b[0m \u001b[0mdata2_cp\u001b[0m\u001b[0;34m)\u001b[0m\u001b[0;34m\u001b[0m\u001b[0;34m\u001b[0m\u001b[0m\n\u001b[0m\u001b[1;32m     10\u001b[0m \u001b[0me\u001b[0m \u001b[0;34m=\u001b[0m \u001b[0mtime\u001b[0m\u001b[0;34m.\u001b[0m\u001b[0mtime\u001b[0m\u001b[0;34m(\u001b[0m\u001b[0;34m)\u001b[0m\u001b[0;34m\u001b[0m\u001b[0;34m\u001b[0m\u001b[0m\n\u001b[1;32m     11\u001b[0m \u001b[0mprint\u001b[0m\u001b[0;34m(\u001b[0m\u001b[0mDistSqMat\u001b[0m\u001b[0;34m)\u001b[0m\u001b[0;34m\u001b[0m\u001b[0;34m\u001b[0m\u001b[0m\n",
      "\u001b[0;32m<ipython-input-12-111dea2521c6>\u001b[0m in \u001b[0;36mgetCuPyDist\u001b[0;34m(data1_cp, data2_cp)\u001b[0m\n\u001b[1;32m      3\u001b[0m     \u001b[0mdistSqs\u001b[0m \u001b[0;34m=\u001b[0m \u001b[0;34m-\u001b[0m\u001b[0;36m2.0\u001b[0m\u001b[0;34m*\u001b[0m\u001b[0mcp\u001b[0m\u001b[0;34m.\u001b[0m\u001b[0mmatmul\u001b[0m\u001b[0;34m(\u001b[0m\u001b[0mdata1_cp\u001b[0m\u001b[0;34m,\u001b[0m \u001b[0mdata2_cp\u001b[0m\u001b[0;34m.\u001b[0m\u001b[0mT\u001b[0m\u001b[0;34m)\u001b[0m \u001b[0;34m+\u001b[0m\u001b[0;31m \u001b[0m\u001b[0;31m\\\u001b[0m\u001b[0;34m\u001b[0m\u001b[0;34m\u001b[0m\u001b[0m\n\u001b[1;32m      4\u001b[0m         \u001b[0mcp\u001b[0m\u001b[0;34m.\u001b[0m\u001b[0marray\u001b[0m\u001b[0;34m(\u001b[0m\u001b[0;34m[\u001b[0m\u001b[0mcp\u001b[0m\u001b[0;34m.\u001b[0m\u001b[0mdiag\u001b[0m\u001b[0;34m(\u001b[0m\u001b[0mcp\u001b[0m\u001b[0;34m.\u001b[0m\u001b[0mmatmul\u001b[0m\u001b[0;34m(\u001b[0m\u001b[0mdata1_cp\u001b[0m\u001b[0;34m,\u001b[0m \u001b[0mdata1_cp\u001b[0m\u001b[0;34m.\u001b[0m\u001b[0mT\u001b[0m\u001b[0;34m)\u001b[0m\u001b[0;34m)\u001b[0m\u001b[0;34m]\u001b[0m\u001b[0;34m)\u001b[0m\u001b[0;34m.\u001b[0m\u001b[0mT\u001b[0m \u001b[0;34m+\u001b[0m\u001b[0;31m \u001b[0m\u001b[0;31m\\\u001b[0m\u001b[0;34m\u001b[0m\u001b[0;34m\u001b[0m\u001b[0m\n\u001b[0;32m----> 5\u001b[0;31m         \u001b[0mcp\u001b[0m\u001b[0;34m.\u001b[0m\u001b[0marray\u001b[0m\u001b[0;34m(\u001b[0m\u001b[0;34m[\u001b[0m\u001b[0mcp\u001b[0m\u001b[0;34m.\u001b[0m\u001b[0mdiag\u001b[0m\u001b[0;34m(\u001b[0m\u001b[0mcp\u001b[0m\u001b[0;34m.\u001b[0m\u001b[0mmatmul\u001b[0m\u001b[0;34m(\u001b[0m\u001b[0mdata2_cp\u001b[0m\u001b[0;34m,\u001b[0m \u001b[0mdata2_cp\u001b[0m\u001b[0;34m.\u001b[0m\u001b[0mT\u001b[0m\u001b[0;34m)\u001b[0m\u001b[0;34m)\u001b[0m\u001b[0;34m]\u001b[0m\u001b[0;34m)\u001b[0m\u001b[0;34m\u001b[0m\u001b[0;34m\u001b[0m\u001b[0m\n\u001b[0m\u001b[1;32m      6\u001b[0m     \u001b[0;32mreturn\u001b[0m \u001b[0mdistSqs\u001b[0m\u001b[0;34m\u001b[0m\u001b[0;34m\u001b[0m\u001b[0m\n\u001b[1;32m      7\u001b[0m \u001b[0;34m\u001b[0m\u001b[0m\n",
      "\u001b[0;32m~/anaconda3/lib/python3.8/site-packages/cupy/_core/_gufuncs.py\u001b[0m in \u001b[0;36m__call__\u001b[0;34m(self, *args, **kwargs)\u001b[0m\n\u001b[1;32m    669\u001b[0m \u001b[0;34m\u001b[0m\u001b[0m\n\u001b[1;32m    670\u001b[0m         \u001b[0;32mif\u001b[0m \u001b[0mouts\u001b[0m \u001b[0;32mis\u001b[0m \u001b[0;32mNone\u001b[0m\u001b[0;34m:\u001b[0m\u001b[0;34m\u001b[0m\u001b[0;34m\u001b[0m\u001b[0m\n\u001b[0;32m--> 671\u001b[0;31m             \u001b[0mouts\u001b[0m \u001b[0;34m=\u001b[0m \u001b[0mcupy\u001b[0m\u001b[0;34m.\u001b[0m\u001b[0mempty\u001b[0m\u001b[0;34m(\u001b[0m\u001b[0mout_shape\u001b[0m\u001b[0;34m,\u001b[0m \u001b[0mdtype\u001b[0m\u001b[0;34m=\u001b[0m\u001b[0mret_dtype\u001b[0m\u001b[0;34m,\u001b[0m \u001b[0morder\u001b[0m\u001b[0;34m=\u001b[0m\u001b[0mfilter_order\u001b[0m\u001b[0;34m)\u001b[0m\u001b[0;34m\u001b[0m\u001b[0;34m\u001b[0m\u001b[0m\n\u001b[0m\u001b[1;32m    672\u001b[0m             \u001b[0;32mif\u001b[0m \u001b[0morder\u001b[0m \u001b[0;34m==\u001b[0m \u001b[0;34m'K'\u001b[0m\u001b[0;34m:\u001b[0m\u001b[0;34m\u001b[0m\u001b[0;34m\u001b[0m\u001b[0m\n\u001b[1;32m    673\u001b[0m                 strides = internal._get_strides_for_order_K(\n",
      "\u001b[0;32m~/anaconda3/lib/python3.8/site-packages/cupy/_creation/basic.py\u001b[0m in \u001b[0;36mempty\u001b[0;34m(shape, dtype, order)\u001b[0m\n\u001b[1;32m     20\u001b[0m \u001b[0;34m\u001b[0m\u001b[0m\n\u001b[1;32m     21\u001b[0m     \"\"\"\n\u001b[0;32m---> 22\u001b[0;31m     \u001b[0;32mreturn\u001b[0m \u001b[0mcupy\u001b[0m\u001b[0;34m.\u001b[0m\u001b[0mndarray\u001b[0m\u001b[0;34m(\u001b[0m\u001b[0mshape\u001b[0m\u001b[0;34m,\u001b[0m \u001b[0mdtype\u001b[0m\u001b[0;34m,\u001b[0m \u001b[0morder\u001b[0m\u001b[0;34m=\u001b[0m\u001b[0morder\u001b[0m\u001b[0;34m)\u001b[0m\u001b[0;34m\u001b[0m\u001b[0;34m\u001b[0m\u001b[0m\n\u001b[0m\u001b[1;32m     23\u001b[0m \u001b[0;34m\u001b[0m\u001b[0m\n\u001b[1;32m     24\u001b[0m \u001b[0;34m\u001b[0m\u001b[0m\n",
      "\u001b[0;32mcupy/_core/core.pyx\u001b[0m in \u001b[0;36mcupy._core.core.ndarray.__init__\u001b[0;34m()\u001b[0m\n",
      "\u001b[0;32mcupy/cuda/memory.pyx\u001b[0m in \u001b[0;36mcupy.cuda.memory.alloc\u001b[0;34m()\u001b[0m\n",
      "\u001b[0;32mcupy/cuda/memory.pyx\u001b[0m in \u001b[0;36mcupy.cuda.memory.MemoryPool.malloc\u001b[0;34m()\u001b[0m\n",
      "\u001b[0;32mcupy/cuda/memory.pyx\u001b[0m in \u001b[0;36mcupy.cuda.memory.MemoryPool.malloc\u001b[0;34m()\u001b[0m\n",
      "\u001b[0;32mcupy/cuda/memory.pyx\u001b[0m in \u001b[0;36mcupy.cuda.memory.SingleDeviceMemoryPool.malloc\u001b[0;34m()\u001b[0m\n",
      "\u001b[0;32mcupy/cuda/memory.pyx\u001b[0m in \u001b[0;36mcupy.cuda.memory.SingleDeviceMemoryPool._malloc\u001b[0;34m()\u001b[0m\n",
      "\u001b[0;32mcupy/cuda/memory.pyx\u001b[0m in \u001b[0;36mcupy.cuda.memory.SingleDeviceMemoryPool._try_malloc\u001b[0;34m()\u001b[0m\n",
      "\u001b[0;31mOutOfMemoryError\u001b[0m: Out of memory allocating 80,000,000,000 bytes (allocated so far: 3,232,801,280 bytes)."
     ]
    }
   ],
   "source": [
    "# CuPy\n",
    "def getCuPyDist(data1_cp, data2_cp):\n",
    "    distSqs = -2.0*cp.matmul(data1_cp, data2_cp.T) + \\\n",
    "        cp.array([cp.diag(cp.matmul(data1_cp, data1_cp.T))]).T + \\\n",
    "        cp.array([cp.diag(cp.matmul(data2_cp, data2_cp.T))])\n",
    "    return distSqs\n",
    "\n",
    "s = time.time()\n",
    "DistSqs = getCuPyDist(data1_cp, data2_cp)\n",
    "e = time.time()\n",
    "print(DistSqMat)\n",
    "print(e - s)"
   ]
  },
  {
   "cell_type": "code",
   "execution_count": null,
   "id": "88a1fe08",
   "metadata": {},
   "outputs": [],
   "source": []
  },
  {
   "cell_type": "code",
   "execution_count": null,
   "id": "5b343e68",
   "metadata": {},
   "outputs": [],
   "source": []
  }
 ],
 "metadata": {
  "kernelspec": {
   "display_name": "Python 3",
   "language": "python",
   "name": "python3"
  },
  "language_info": {
   "codemirror_mode": {
    "name": "ipython",
    "version": 3
   },
   "file_extension": ".py",
   "mimetype": "text/x-python",
   "name": "python",
   "nbconvert_exporter": "python",
   "pygments_lexer": "ipython3",
   "version": "3.8.8"
  }
 },
 "nbformat": 4,
 "nbformat_minor": 5
}
