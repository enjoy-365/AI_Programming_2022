{
  "cells": [
    {
      "cell_type": "code",
      "execution_count": 1,
      "id": "3f521f6c",
      "metadata": {
        "id": "3f521f6c"
      },
      "outputs": [],
      "source": [
        "#@title Licensed under the Apache License, Version 2.0 (the \"License\");\n",
        "# you may not use this file except in compliance with the License.\n",
        "# You may obtain a copy of the License at\n",
        "#\n",
        "# https://www.apache.org/licenses/LICENSE-2.0\n",
        "#\n",
        "# Unless required by applicable law or agreed to in writing, software\n",
        "# distributed under the License is distributed on an \"AS IS\" BASIS,\n",
        "# WITHOUT WARRANTIES OR CONDITIONS OF ANY KIND, either express or implied.\n",
        "# See the License for the specific language governing permissions and\n",
        "# limitations under the License."
      ]
    },
    {
      "cell_type": "markdown",
      "id": "be9d0faf",
      "metadata": {
        "id": "be9d0faf"
      },
      "source": [
        "## Comparison between VAE vs GAN"
      ]
    },
    {
      "cell_type": "markdown",
      "id": "3ed8af84",
      "metadata": {
        "id": "3ed8af84"
      },
      "source": [
        "![](https://github.com/enjoy-365/AI_Programming_2022/blob/main/week_10/img/vaegan.jpg?raw=1)"
      ]
    },
    {
      "cell_type": "markdown",
      "id": "4a2f1b21",
      "metadata": {
        "id": "4a2f1b21"
      },
      "source": [
        "# GAN"
      ]
    },
    {
      "cell_type": "code",
      "execution_count": 2,
      "id": "7db7e330",
      "metadata": {
        "id": "7db7e330"
      },
      "outputs": [],
      "source": [
        "import tensorflow as tf\n",
        "import glob\n",
        "import imageio\n",
        "import matplotlib.pyplot as plt\n",
        "import numpy as np\n",
        "import os\n",
        "import PIL\n",
        "from tensorflow.keras import layers\n",
        "import time\n",
        "\n",
        "from IPython import display"
      ]
    },
    {
      "cell_type": "markdown",
      "id": "ac9117d9",
      "metadata": {
        "id": "ac9117d9"
      },
      "source": [
        "### Data set"
      ]
    },
    {
      "cell_type": "code",
      "execution_count": 3,
      "id": "4d6f34ae",
      "metadata": {
        "id": "4d6f34ae"
      },
      "outputs": [],
      "source": [
        "(train_images, train_labels), (_, _) = tf.keras.datasets.mnist.load_data()\n",
        "train_images = train_images.reshape(train_images.shape[0], 28, 28, 1).astype('float32')\n",
        "train_images = (train_images - 127.5) / 127.5 # image normalizing"
      ]
    },
    {
      "cell_type": "code",
      "execution_count": 4,
      "id": "b80f5536",
      "metadata": {
        "id": "b80f5536"
      },
      "outputs": [],
      "source": [
        "BUFFER_SIZE = 60000\n",
        "BATCH_SIZE = 256"
      ]
    },
    {
      "cell_type": "code",
      "execution_count": 5,
      "id": "aba2ef27",
      "metadata": {
        "id": "aba2ef27"
      },
      "outputs": [],
      "source": [
        "train_dataset = tf.data.Dataset.from_tensor_slices(train_images).shuffle(BUFFER_SIZE).batch(BATCH_SIZE)"
      ]
    },
    {
      "cell_type": "markdown",
      "id": "c1be8f4c",
      "metadata": {
        "id": "c1be8f4c"
      },
      "source": [
        "### Generator"
      ]
    },
    {
      "cell_type": "code",
      "execution_count": 6,
      "id": "d7b1b8ac",
      "metadata": {
        "id": "d7b1b8ac"
      },
      "outputs": [],
      "source": [
        "def make_generator_model():\n",
        "    model = tf.keras.Sequential()\n",
        "    model.add(layers.Dense(7*7*256, use_bias=False, input_shape=(100,)))\n",
        "    model.add(layers.BatchNormalization())\n",
        "    model.add(layers.LeakyReLU())\n",
        "\n",
        "    model.add(layers.Reshape((7, 7, 256)))\n",
        "    assert model.output_shape == (None, 7, 7, 256) \n",
        "\n",
        "    model.add(layers.Conv2DTranspose(128, (5, 5), strides=(1, 1), padding='same', use_bias=False))\n",
        "    assert model.output_shape == (None, 7, 7, 128)\n",
        "    model.add(layers.BatchNormalization())\n",
        "    model.add(layers.LeakyReLU())\n",
        "\n",
        "    model.add(layers.Conv2DTranspose(64, (5, 5), strides=(2, 2), padding='same', use_bias=False))\n",
        "    assert model.output_shape == (None, 14, 14, 64)\n",
        "    model.add(layers.BatchNormalization())\n",
        "    model.add(layers.LeakyReLU())\n",
        "\n",
        "    model.add(layers.Conv2DTranspose(1, (5, 5), strides=(2, 2), padding='same', use_bias=False, activation='tanh'))\n",
        "    assert model.output_shape == (None, 28, 28, 1)\n",
        "\n",
        "    return model"
      ]
    },
    {
      "cell_type": "markdown",
      "id": "4df1ad0f",
      "metadata": {
        "id": "4df1ad0f"
      },
      "source": [
        "+ generate image using untrained generator "
      ]
    },
    {
      "cell_type": "code",
      "execution_count": 7,
      "id": "96d6ef16",
      "metadata": {
        "id": "96d6ef16",
        "outputId": "2788bc12-1a8d-4547-a8b9-76acd385c12a",
        "colab": {
          "base_uri": "https://localhost:8080/",
          "height": 283
        }
      },
      "outputs": [
        {
          "output_type": "execute_result",
          "data": {
            "text/plain": [
              "<matplotlib.image.AxesImage at 0x7f2890515ed0>"
            ]
          },
          "metadata": {},
          "execution_count": 7
        },
        {
          "output_type": "display_data",
          "data": {
            "text/plain": [
              "<Figure size 432x288 with 1 Axes>"
            ],
            "image/png": "[encoded data removed]"
          },
          "metadata": {
            "needs_background": "light"
          }
        }
      ],
      "source": [
        "generator = make_generator_model()\n",
        "\n",
        "noise = tf.random.normal([1, 100])\n",
        "generated_image = generator(noise, training=False)\n",
        "\n",
        "plt.imshow(generated_image[0, :, :, 0], cmap='gray')"
      ]
    },
    {
      "cell_type": "markdown",
      "id": "bc7f047d",
      "metadata": {
        "id": "bc7f047d"
      },
      "source": [
        "### Discriminator"
      ]
    },
    {
      "cell_type": "code",
      "execution_count": 8,
      "id": "912488a9",
      "metadata": {
        "id": "912488a9"
      },
      "outputs": [],
      "source": [
        "def make_discriminator_model():\n",
        "    model = tf.keras.Sequential()\n",
        "    model.add(layers.Conv2D(64, (5, 5), strides=(2, 2), padding='same',\n",
        "                                     input_shape=[28, 28, 1]))\n",
        "    model.add(layers.LeakyReLU())\n",
        "    model.add(layers.Dropout(0.3))\n",
        "\n",
        "    model.add(layers.Conv2D(128, (5, 5), strides=(2, 2), padding='same'))\n",
        "    model.add(layers.LeakyReLU())\n",
        "    model.add(layers.Dropout(0.3))\n",
        "\n",
        "    model.add(layers.Flatten())\n",
        "    model.add(layers.Dense(1))\n",
        "\n",
        "    return model"
      ]
    },
    {
      "cell_type": "markdown",
      "id": "f2777243",
      "metadata": {
        "id": "f2777243"
      },
      "source": [
        "+ This is untrained discriminator\n",
        "+ we will discriminate the generated image is whether true or false\n",
        "+ for the true image, it will print positive values otherwise, print negative values"
      ]
    },
    {
      "cell_type": "code",
      "execution_count": 9,
      "id": "18eb5e90",
      "metadata": {
        "id": "18eb5e90",
        "outputId": "78b337d7-c69d-4c48-9653-280b69672c49",
        "colab": {
          "base_uri": "https://localhost:8080/"
        }
      },
      "outputs": [
        {
          "output_type": "stream",
          "name": "stdout",
          "text": [
            "tf.Tensor([[-0.00364747]], shape=(1, 1), dtype=float32)\n"
          ]
        }
      ],
      "source": [
        "discriminator = make_discriminator_model()\n",
        "decision = discriminator(generated_image)\n",
        "print (decision)"
      ]
    },
    {
      "cell_type": "markdown",
      "id": "bfdedfd9",
      "metadata": {
        "id": "bfdedfd9"
      },
      "source": [
        "### Loss func. & Optimizor"
      ]
    },
    {
      "cell_type": "code",
      "execution_count": 10,
      "id": "57ba0fd4",
      "metadata": {
        "id": "57ba0fd4"
      },
      "outputs": [],
      "source": [
        "cross_entropy = tf.keras.losses.BinaryCrossentropy(from_logits=True)"
      ]
    },
    {
      "cell_type": "markdown",
      "id": "69b593f0",
      "metadata": {
        "id": "69b593f0"
      },
      "source": [
        "### discriminator_loss func."
      ]
    },
    {
      "cell_type": "code",
      "execution_count": 11,
      "id": "2864a894",
      "metadata": {
        "id": "2864a894"
      },
      "outputs": [],
      "source": [
        "def discriminator_loss(real_output, fake_output):\n",
        "    real_loss = cross_entropy(tf.ones_like(real_output), real_output)\n",
        "    fake_loss = cross_entropy(tf.zeros_like(fake_output), fake_output)\n",
        "    total_loss = real_loss + fake_loss\n",
        "    return total_loss"
      ]
    },
    {
      "cell_type": "markdown",
      "id": "ecc07b6f",
      "metadata": {
        "id": "ecc07b6f"
      },
      "source": [
        "### generator_loss func."
      ]
    },
    {
      "cell_type": "code",
      "execution_count": 12,
      "id": "590d1db1",
      "metadata": {
        "id": "590d1db1"
      },
      "outputs": [],
      "source": [
        "def generator_loss(fake_output):\n",
        "    return cross_entropy(tf.ones_like(fake_output), fake_output)"
      ]
    },
    {
      "cell_type": "code",
      "execution_count": 13,
      "id": "7db89bb6",
      "metadata": {
        "id": "7db89bb6"
      },
      "outputs": [],
      "source": [
        "generator_optimizer = tf.keras.optimizers.Adam(1e-4)\n",
        "discriminator_optimizer = tf.keras.optimizers.Adam(1e-4)"
      ]
    },
    {
      "cell_type": "markdown",
      "id": "5951ea8c",
      "metadata": {
        "id": "5951ea8c"
      },
      "source": [
        "### checkpoint"
      ]
    },
    {
      "cell_type": "code",
      "execution_count": 14,
      "id": "9e1005e8",
      "metadata": {
        "id": "9e1005e8"
      },
      "outputs": [],
      "source": [
        "checkpoint_dir = './training_checkpoints'\n",
        "checkpoint_prefix = os.path.join(checkpoint_dir, \"ckpt\")\n",
        "checkpoint = tf.train.Checkpoint(generator_optimizer=generator_optimizer,\n",
        "                                 discriminator_optimizer=discriminator_optimizer,\n",
        "                                 generator=generator,\n",
        "                                 discriminator=discriminator)"
      ]
    },
    {
      "cell_type": "markdown",
      "id": "5858b734",
      "metadata": {
        "id": "5858b734"
      },
      "source": [
        "### training epoch"
      ]
    },
    {
      "cell_type": "code",
      "execution_count": 15,
      "id": "89f7d00d",
      "metadata": {
        "id": "89f7d00d"
      },
      "outputs": [],
      "source": [
        "EPOCHS = 50\n",
        "noise_dim = 100\n",
        "num_examples_to_generate = 16\n",
        "\n",
        "seed = tf.random.normal([num_examples_to_generate, noise_dim])"
      ]
    },
    {
      "cell_type": "code",
      "execution_count": 16,
      "id": "dda03dc2",
      "metadata": {
        "id": "dda03dc2"
      },
      "outputs": [],
      "source": [
        "@tf.function\n",
        "def train_step(images):\n",
        "    noise = tf.random.normal([BATCH_SIZE, noise_dim])\n",
        "\n",
        "    with tf.GradientTape() as gen_tape, tf.GradientTape() as disc_tape:\n",
        "      generated_images = generator(noise, training=True)\n",
        "\n",
        "      real_output = discriminator(images, training=True)\n",
        "      fake_output = discriminator(generated_images, training=True)\n",
        "\n",
        "      gen_loss = generator_loss(fake_output)\n",
        "      disc_loss = discriminator_loss(real_output, fake_output)\n",
        "\n",
        "    gradients_of_generator = gen_tape.gradient(gen_loss, generator.trainable_variables)\n",
        "    gradients_of_discriminator = disc_tape.gradient(disc_loss, discriminator.trainable_variables)\n",
        "\n",
        "    generator_optimizer.apply_gradients(zip(gradients_of_generator, generator.trainable_variables))\n",
        "    discriminator_optimizer.apply_gradients(zip(gradients_of_discriminator, discriminator.trainable_variables))"
      ]
    },
    {
      "cell_type": "code",
      "execution_count": 17,
      "id": "7f514198",
      "metadata": {
        "id": "7f514198"
      },
      "outputs": [],
      "source": [
        "def train(dataset, epochs):\n",
        "  for epoch in range(epochs):\n",
        "    start = time.time()\n",
        "\n",
        "    for image_batch in dataset:\n",
        "      train_step(image_batch)\n",
        "\n",
        "    #image for GIF\n",
        "    display.clear_output(wait=True)\n",
        "    generate_and_save_images(generator,\n",
        "                             epoch + 1,\n",
        "                             seed)\n",
        "\n",
        "    if (epoch + 1) % 15 == 0:\n",
        "      checkpoint.save(file_prefix = checkpoint_prefix)\n",
        "    \n",
        "    print ('Time for epoch {} is {} sec'.format(epoch + 1, time.time()-start))\n",
        "\n",
        "  display.clear_output(wait=True)\n",
        "  generate_and_save_images(generator,\n",
        "                           epochs,\n",
        "                           seed)"
      ]
    },
    {
      "cell_type": "markdown",
      "id": "263db23a",
      "metadata": {
        "id": "263db23a"
      },
      "source": [
        "### generate& store the image"
      ]
    },
    {
      "cell_type": "code",
      "execution_count": 18,
      "id": "034e56c3",
      "metadata": {
        "id": "034e56c3"
      },
      "outputs": [],
      "source": [
        "def generate_and_save_images(model, epoch, test_input):\n",
        "  predictions = model(test_input, training=False)\n",
        "\n",
        "  fig = plt.figure(figsize=(4,4))\n",
        "\n",
        "  for i in range(predictions.shape[0]):\n",
        "      plt.subplot(4, 4, i+1)\n",
        "      plt.imshow(predictions[i, :, :, 0] * 127.5 + 127.5, cmap='gray')\n",
        "      plt.axis('off')\n",
        "\n",
        "  plt.savefig('image_at_epoch_{:04d}.png'.format(epoch))\n",
        "  plt.show()"
      ]
    },
    {
      "cell_type": "code",
      "source": [
        ""
      ],
      "metadata": {
        "id": "xfCYPg6kW3wE"
      },
      "id": "xfCYPg6kW3wE",
      "execution_count": null,
      "outputs": []
    },
    {
      "cell_type": "markdown",
      "id": "574e3bef",
      "metadata": {
        "id": "574e3bef"
      },
      "source": [
        "### Model training"
      ]
    },
    {
      "cell_type": "code",
      "execution_count": 19,
      "id": "3dd9866c",
      "metadata": {
        "id": "3dd9866c",
        "outputId": "90ff3e4a-7ef9-4270-9bb1-26199ce39ccc",
        "colab": {
          "base_uri": "https://localhost:8080/",
          "height": 285
        }
      },
      "outputs": [
        {
          "output_type": "display_data",
          "data": {
            "text/plain": [
              "<Figure size 288x288 with 16 Axes>"
            ],
            "image/png": "[encoded data removed]"
          },
          "metadata": {
            "needs_background": "light"
          }
        },
        {
          "output_type": "stream",
          "name": "stdout",
          "text": [
            "CPU times: user 4min 40s, sys: 38.3 s, total: 5min 19s\n",
            "Wall time: 22min 11s\n"
          ]
        }
      ],
      "source": [
        "%%time\n",
        "#train(train_dataset, EPOCHS)"
      ]
    },
    {
      "cell_type": "markdown",
      "source": [
        "## Load trained parameters to save time"
      ],
      "metadata": {
        "id": "DZa3BAErMuAg"
      },
      "id": "DZa3BAErMuAg"
    },
    {
      "cell_type": "code",
      "source": [
        "!git clone https://github.com/enjoy-365/AI_Programming_2022.git\n",
        "generator.load_weights('/content/AI_Programming_2022/week_10/weights/GAN/generator/')\n",
        "discriminator.load_weights('/content/AI_Programming_2022/week_10/weights/GAN/discriminator/')"
      ],
      "metadata": {
        "id": "H1BGKTq1MtZT",
        "outputId": "fb9e042a-d6e9-4ef1-83d2-7a411dffac7b",
        "colab": {
          "base_uri": "https://localhost:8080/"
        }
      },
      "id": "H1BGKTq1MtZT",
      "execution_count": 43,
      "outputs": [
        {
          "output_type": "stream",
          "name": "stdout",
          "text": [
            "Cloning into 'AI_Programming_2022'...\n",
            "remote: Enumerating objects: 521, done.\u001b[K\n",
            "remote: Counting objects: 100% (17/17), done.\u001b[K\n",
            "remote: Compressing objects: 100% (8/8), done.\u001b[K\n",
            "remote: Total 521 (delta 14), reused 9 (delta 9), pack-reused 504\u001b[K\n",
            "Receiving objects: 100% (521/521), 39.91 MiB | 11.84 MiB/s, done.\n",
            "Resolving deltas: 100% (239/239), done.\n"
          ]
        },
        {
          "output_type": "execute_result",
          "data": {
            "text/plain": [
              "<tensorflow.python.training.tracking.util.CheckpointLoadStatus at 0x7f27b0301a10>"
            ]
          },
          "metadata": {},
          "execution_count": 43
        }
      ]
    },
    {
      "cell_type": "code",
      "execution_count": 21,
      "id": "c783e9af",
      "metadata": {
        "id": "c783e9af",
        "outputId": "60e35eb6-4305-458e-e3f9-f7598809d732",
        "colab": {
          "base_uri": "https://localhost:8080/"
        }
      },
      "outputs": [
        {
          "output_type": "execute_result",
          "data": {
            "text/plain": [
              "<tensorflow.python.training.tracking.util.CheckpointLoadStatus at 0x7f27b0a7cf50>"
            ]
          },
          "metadata": {},
          "execution_count": 21
        }
      ],
      "source": [
        "checkpoint.restore(tf.train.latest_checkpoint(checkpoint_dir))"
      ]
    },
    {
      "cell_type": "markdown",
      "id": "cca569dc",
      "metadata": {
        "id": "cca569dc"
      },
      "source": [
        "### GIF"
      ]
    },
    {
      "cell_type": "code",
      "execution_count": 45,
      "id": "56c6203f",
      "metadata": {
        "id": "56c6203f"
      },
      "outputs": [],
      "source": [
        "def display_image(epoch_no):\n",
        "  return PIL.Image.open('/content/AI_Programming_2022/week_10/img/image_at_epoch_{:04d}.png'.format(epoch_no))"
      ]
    },
    {
      "cell_type": "code",
      "execution_count": 46,
      "id": "fcf971d1",
      "metadata": {
        "id": "fcf971d1",
        "outputId": "f9399137-3ef9-4cd8-f3dd-4f9dfbc86415",
        "colab": {
          "base_uri": "https://localhost:8080/",
          "height": 305
        }
      },
      "outputs": [
        {
          "output_type": "execute_result",
          "data": {
            "text/plain": [
              "<PIL.PngImagePlugin.PngImageFile image mode=RGBA size=288x288 at 0x7F27B0308990>"
            ],
            "image/png": "[encoded data removed]"
          },
          "metadata": {},
          "execution_count": 46
        }
      ],
      "source": [
        "display_image(EPOCHS)"
      ]
    },
    {
      "cell_type": "code",
      "execution_count": 24,
      "id": "e1183baf",
      "metadata": {
        "id": "e1183baf"
      },
      "outputs": [],
      "source": [
        "anim_file = 'dcgan.gif'\n",
        "\n",
        "with imageio.get_writer(anim_file, mode='I') as writer:\n",
        "  filenames = glob.glob('image*.png')\n",
        "  filenames = sorted(filenames)\n",
        "  last = -1\n",
        "  for i,filename in enumerate(filenames):\n",
        "    frame = 2*(i**0.5)\n",
        "    if round(frame) > round(last):\n",
        "      last = frame\n",
        "    else:\n",
        "      continue\n",
        "    image = imageio.imread(filename)\n",
        "    writer.append_data(image)\n",
        "  image = imageio.imread(filename)\n",
        "  writer.append_data(image)\n",
        "\n",
        "import IPython\n",
        "if IPython.version_info > (6,2,0,''):\n",
        "  display.Image(filename=anim_file)"
      ]
    }
  ],
  "metadata": {
    "kernelspec": {
      "display_name": "[tf_python39]",
      "language": "python",
      "name": "tf_py39"
    },
    "language_info": {
      "codemirror_mode": {
        "name": "ipython",
        "version": 3
      },
      "file_extension": ".py",
      "mimetype": "text/x-python",
      "name": "python",
      "nbconvert_exporter": "python",
      "pygments_lexer": "ipython3",
      "version": "3.9.12"
    },
    "colab": {
      "name": "10-1) GAN.ipynb",
      "provenance": []
    },
    "accelerator": "GPU"
  },
  "nbformat": 4,
  "nbformat_minor": 5
}