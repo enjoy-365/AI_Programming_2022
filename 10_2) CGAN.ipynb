{
  "cells": [
    {
      "cell_type": "markdown",
      "metadata": {
        "id": "view-in-github",
        "colab_type": "text"
      },
      "source": [
        "<a href=\"https://colab.research.google.com/github/enjoy-365/AI_Programming_2022/blob/main/10_2)%20CGAN.ipynb\" target=\"_parent\"><img src=\"https://colab.research.google.com/assets/colab-badge.svg\" alt=\"Open In Colab\"/></a>"
      ]
    },
    {
      "cell_type": "code",
      "execution_count": null,
      "id": "2d17497a",
      "metadata": {
        "colab": {
          "base_uri": "https://localhost:8080/"
        },
        "id": "2d17497a",
        "outputId": "224458c9-97f5-4a62-da8c-5b95ae3c14d9"
      },
      "outputs": [
        {
          "output_type": "stream",
          "name": "stdout",
          "text": [
            "Collecting git+https://github.com/tensorflow/docs\n",
            "  Cloning https://github.com/tensorflow/docs to /tmp/pip-req-build-wt_wwx71\n",
            "  Running command git clone -q https://github.com/tensorflow/docs /tmp/pip-req-build-wt_wwx71\n",
            "Requirement already satisfied: astor in /usr/local/lib/python3.7/dist-packages (from tensorflow-docs==0.0.0.dev0) (0.8.1)\n",
            "Requirement already satisfied: absl-py in /usr/local/lib/python3.7/dist-packages (from tensorflow-docs==0.0.0.dev0) (1.0.0)\n",
            "Requirement already satisfied: jinja2 in /usr/local/lib/python3.7/dist-packages (from tensorflow-docs==0.0.0.dev0) (2.11.3)\n",
            "Requirement already satisfied: protobuf>=3.14 in /usr/local/lib/python3.7/dist-packages (from tensorflow-docs==0.0.0.dev0) (3.17.3)\n",
            "Requirement already satisfied: pyyaml in /usr/local/lib/python3.7/dist-packages (from tensorflow-docs==0.0.0.dev0) (3.13)\n",
            "Requirement already satisfied: six>=1.9 in /usr/local/lib/python3.7/dist-packages (from protobuf>=3.14->tensorflow-docs==0.0.0.dev0) (1.15.0)\n",
            "Requirement already satisfied: MarkupSafe>=0.23 in /usr/local/lib/python3.7/dist-packages (from jinja2->tensorflow-docs==0.0.0.dev0) (2.0.1)\n",
            "Building wheels for collected packages: tensorflow-docs\n",
            "  Building wheel for tensorflow-docs (setup.py) ... \u001b[?25l\u001b[?25hdone\n",
            "  Created wheel for tensorflow-docs: filename=tensorflow_docs-0.0.0.dev0-py3-none-any.whl size=179891 sha256=b6a326c818fee4e0367b4d780bcf9f5986d72b5cdebc0d1d4ab21ecd13112259\n",
            "  Stored in directory: /tmp/pip-ephem-wheel-cache-iu4i3n_s/wheels/cc/c4/d8/5341e93b6376c5c929c49469fce21155eb69cef1a4da4ce32c\n",
            "Successfully built tensorflow-docs\n",
            "Installing collected packages: tensorflow-docs\n",
            "Successfully installed tensorflow-docs-0.0.0.dev0\n"
          ]
        }
      ],
      "source": [
        "pip install git+https://github.com/tensorflow/docs"
      ]
    },
    {
      "cell_type": "code",
      "execution_count": null,
      "id": "f14e8f0f",
      "metadata": {
        "id": "f14e8f0f"
      },
      "outputs": [],
      "source": [
        "from tensorflow import keras\n",
        "from tensorflow.keras import layers\n",
        "\n",
        "\n",
        "from tensorflow_docs.vis import embed\n",
        "import matplotlib.pyplot as plt\n",
        "import tensorflow as tf\n",
        "import numpy as np\n",
        "import imageio"
      ]
    },
    {
      "cell_type": "markdown",
      "id": "8b0022af",
      "metadata": {
        "id": "8b0022af"
      },
      "source": [
        "### Constants and hyperparameters"
      ]
    },
    {
      "cell_type": "code",
      "execution_count": null,
      "id": "565d8e5b",
      "metadata": {
        "id": "565d8e5b"
      },
      "outputs": [],
      "source": [
        "batch_size = 64\n",
        "num_channels = 1\n",
        "num_classes = 10\n",
        "image_size = 28\n",
        "latent_dim = 128"
      ]
    },
    {
      "cell_type": "markdown",
      "id": "914c0ccf",
      "metadata": {
        "id": "914c0ccf"
      },
      "source": [
        "### Loading the MNIST dataset and preprocessing it"
      ]
    },
    {
      "cell_type": "code",
      "execution_count": null,
      "id": "7b395336",
      "metadata": {
        "colab": {
          "base_uri": "https://localhost:8080/"
        },
        "id": "7b395336",
        "outputId": "9234dbff-e519-4fbc-bb01-65e86153eb4c"
      },
      "outputs": [
        {
          "output_type": "stream",
          "name": "stdout",
          "text": [
            "Downloading data from https://storage.googleapis.com/tensorflow/tf-keras-datasets/mnist.npz\n",
            "11493376/11490434 [==============================] - 0s 0us/step\n",
            "11501568/11490434 [==============================] - 0s 0us/step\n",
            "Shape of training images: (70000, 28, 28, 1)\n",
            "Shape of training labels: (70000, 10)\n"
          ]
        }
      ],
      "source": [
        "# We'll use all the available examples from both the training and test\n",
        "# sets.\n",
        "(x_train, y_train), (x_test, y_test) = keras.datasets.mnist.load_data()\n",
        "all_digits = np.concatenate([x_train, x_test])\n",
        "all_labels = np.concatenate([y_train, y_test])\n",
        "\n",
        "# Scale the pixel values to [0, 1] range, add a channel dimension to\n",
        "# the images, and one-hot encode the labels.\n",
        "all_digits = all_digits.astype(\"float32\") / 255.0\n",
        "all_digits = np.reshape(all_digits, (-1, 28, 28, 1))\n",
        "all_labels = keras.utils.to_categorical(all_labels, 10)\n",
        "\n",
        "# Create tf.data.Dataset.\n",
        "dataset = tf.data.Dataset.from_tensor_slices((all_digits, all_labels))\n",
        "dataset = dataset.shuffle(buffer_size=1024).batch(batch_size)\n",
        "\n",
        "print(f\"Shape of training images: {all_digits.shape}\")\n",
        "print(f\"Shape of training labels: {all_labels.shape}\")"
      ]
    },
    {
      "cell_type": "markdown",
      "id": "8a408c2e",
      "metadata": {
        "id": "8a408c2e"
      },
      "source": [
        "### The number of input channel for generator and discriminator"
      ]
    },
    {
      "cell_type": "code",
      "execution_count": null,
      "id": "36368a2a",
      "metadata": {
        "colab": {
          "base_uri": "https://localhost:8080/"
        },
        "id": "36368a2a",
        "outputId": "bec60b71-0d8d-453e-e24b-1513bb73d531"
      },
      "outputs": [
        {
          "output_type": "stream",
          "name": "stdout",
          "text": [
            "138 11\n"
          ]
        }
      ],
      "source": [
        "generator_in_channels = latent_dim + num_classes\n",
        "discriminator_in_channels = num_channels + num_classes\n",
        "print(generator_in_channels, discriminator_in_channels)"
      ]
    },
    {
      "cell_type": "markdown",
      "id": "3c713893",
      "metadata": {
        "id": "3c713893"
      },
      "source": [
        "### Creating the discriminator and generator"
      ]
    },
    {
      "cell_type": "code",
      "execution_count": null,
      "id": "37b47b28",
      "metadata": {
        "id": "37b47b28"
      },
      "outputs": [],
      "source": [
        "# Create the discriminator.\n",
        "discriminator = keras.Sequential(\n",
        "    [\n",
        "        keras.layers.InputLayer((28, 28, discriminator_in_channels)),\n",
        "        layers.Conv2D(64, (3, 3), strides=(2, 2), padding=\"same\"),\n",
        "        layers.LeakyReLU(alpha=0.2),\n",
        "        layers.Conv2D(128, (3, 3), strides=(2, 2), padding=\"same\"),\n",
        "        layers.LeakyReLU(alpha=0.2),\n",
        "        layers.GlobalMaxPooling2D(),\n",
        "        layers.Dense(1),\n",
        "    ],\n",
        "    name=\"discriminator\",\n",
        ")\n",
        "\n",
        "# Create the generator.\n",
        "generator = keras.Sequential(\n",
        "    [\n",
        "        keras.layers.InputLayer((generator_in_channels,)),\n",
        "        # We want to generate 128 + num_classes coefficients to reshape into a\n",
        "        # 7x7x(128 + num_classes) map.\n",
        "        layers.Dense(7 * 7 * generator_in_channels),\n",
        "        layers.LeakyReLU(alpha=0.2),\n",
        "        layers.Reshape((7, 7, generator_in_channels)),\n",
        "        layers.Conv2DTranspose(128, (4, 4), strides=(2, 2), padding=\"same\"),\n",
        "        layers.LeakyReLU(alpha=0.2),\n",
        "        layers.Conv2DTranspose(128, (4, 4), strides=(2, 2), padding=\"same\"),\n",
        "        layers.LeakyReLU(alpha=0.2),\n",
        "        layers.Conv2D(1, (7, 7), padding=\"same\", activation=\"sigmoid\"),\n",
        "    ],\n",
        "    name=\"generator\",\n",
        ")"
      ]
    },
    {
      "cell_type": "markdown",
      "id": "febf7697",
      "metadata": {
        "id": "febf7697"
      },
      "source": [
        "### CGAN model"
      ]
    },
    {
      "cell_type": "code",
      "execution_count": null,
      "id": "754d3dc4",
      "metadata": {
        "id": "754d3dc4"
      },
      "outputs": [],
      "source": [
        "class ConditionalGAN(keras.Model):\n",
        "    def __init__(self, discriminator, generator, latent_dim):\n",
        "        super(ConditionalGAN, self).__init__()\n",
        "        self.discriminator = discriminator\n",
        "        self.generator = generator\n",
        "        self.latent_dim = latent_dim\n",
        "        self.gen_loss_tracker = keras.metrics.Mean(name=\"generator_loss\")\n",
        "        self.disc_loss_tracker = keras.metrics.Mean(name=\"discriminator_loss\")\n",
        "\n",
        "    @property\n",
        "    def metrics(self):\n",
        "        return [self.gen_loss_tracker, self.disc_loss_tracker]\n",
        "\n",
        "    def compile(self, d_optimizer, g_optimizer, loss_fn):\n",
        "        super(ConditionalGAN, self).compile()\n",
        "        self.d_optimizer = d_optimizer\n",
        "        self.g_optimizer = g_optimizer\n",
        "        self.loss_fn = loss_fn\n",
        "\n",
        "    def train_step(self, data):\n",
        "        # Unpack the data.\n",
        "        real_images, one_hot_labels = data\n",
        "\n",
        "        # Add dummy dimensions to the labels so that they can be concatenated with\n",
        "        # the images. This is for the discriminator.\n",
        "        image_one_hot_labels = one_hot_labels[:, :, None, None]\n",
        "        image_one_hot_labels = tf.repeat(\n",
        "            image_one_hot_labels, repeats=[image_size * image_size]\n",
        "        )\n",
        "        image_one_hot_labels = tf.reshape(\n",
        "            image_one_hot_labels, (-1, image_size, image_size, num_classes)\n",
        "        )\n",
        "\n",
        "        # Sample random points in the latent space and concatenate the labels.\n",
        "        # This is for the generator.\n",
        "        batch_size = tf.shape(real_images)[0]\n",
        "        random_latent_vectors = tf.random.normal(shape=(batch_size, self.latent_dim))\n",
        "        random_vector_labels = tf.concat(\n",
        "            [random_latent_vectors, one_hot_labels], axis=1\n",
        "        )\n",
        "\n",
        "        # Decode the noise (guided by labels) to fake images.\n",
        "        generated_images = self.generator(random_vector_labels)\n",
        "\n",
        "        # Combine them with real images. Note that we are concatenating the labels\n",
        "        # with these images here.\n",
        "        fake_image_and_labels = tf.concat([generated_images, image_one_hot_labels], -1)\n",
        "        real_image_and_labels = tf.concat([real_images, image_one_hot_labels], -1)\n",
        "        combined_images = tf.concat(\n",
        "            [fake_image_and_labels, real_image_and_labels], axis=0\n",
        "        )\n",
        "\n",
        "        # Assemble labels discriminating real from fake images.\n",
        "        labels = tf.concat(\n",
        "            [tf.ones((batch_size, 1)), tf.zeros((batch_size, 1))], axis=0\n",
        "        )\n",
        "\n",
        "        # Train the discriminator.\n",
        "        with tf.GradientTape() as tape:\n",
        "            predictions = self.discriminator(combined_images)\n",
        "            d_loss = self.loss_fn(labels, predictions)\n",
        "        grads = tape.gradient(d_loss, self.discriminator.trainable_weights)\n",
        "        self.d_optimizer.apply_gradients(\n",
        "            zip(grads, self.discriminator.trainable_weights)\n",
        "        )\n",
        "\n",
        "        # Sample random points in the latent space.\n",
        "        random_latent_vectors = tf.random.normal(shape=(batch_size, self.latent_dim))\n",
        "        random_vector_labels = tf.concat(\n",
        "            [random_latent_vectors, one_hot_labels], axis=1\n",
        "        )\n",
        "\n",
        "        # Assemble labels that say \"all real images\".\n",
        "        misleading_labels = tf.zeros((batch_size, 1))\n",
        "\n",
        "        # Train the generator (note that we should *not* update the weights\n",
        "        # of the discriminator)!\n",
        "        with tf.GradientTape() as tape:\n",
        "            fake_images = self.generator(random_vector_labels)\n",
        "            fake_image_and_labels = tf.concat([fake_images, image_one_hot_labels], -1)\n",
        "            predictions = self.discriminator(fake_image_and_labels)\n",
        "            g_loss = self.loss_fn(misleading_labels, predictions)\n",
        "        grads = tape.gradient(g_loss, self.generator.trainable_weights)\n",
        "        self.g_optimizer.apply_gradients(zip(grads, self.generator.trainable_weights))\n",
        "\n",
        "        # Monitor loss.\n",
        "        self.gen_loss_tracker.update_state(g_loss)\n",
        "        self.disc_loss_tracker.update_state(d_loss)\n",
        "        return {\n",
        "            \"g_loss\": self.gen_loss_tracker.result(),\n",
        "            \"d_loss\": self.disc_loss_tracker.result(),\n",
        "        }\n"
      ]
    },
    {
      "cell_type": "markdown",
      "id": "9e662a5e",
      "metadata": {
        "id": "9e662a5e"
      },
      "source": [
        "### Training the CGAN"
      ]
    },
    {
      "cell_type": "code",
      "execution_count": null,
      "id": "f9f1d56c",
      "metadata": {
        "colab": {
          "base_uri": "https://localhost:8080/"
        },
        "id": "f9f1d56c",
        "outputId": "3ca7443a-af92-42b7-f385-708c2c0969e8"
      },
      "outputs": [
        {
          "output_type": "stream",
          "name": "stdout",
          "text": [
            "Epoch 1/20\n",
            "1094/1094 [==============================] - 87s 65ms/step - g_loss: 1.6262 - d_loss: 0.4053\n",
            "Epoch 2/20\n",
            "1094/1094 [==============================] - 71s 65ms/step - g_loss: 1.2730 - d_loss: 0.4825\n",
            "Epoch 3/20\n",
            "1094/1094 [==============================] - 71s 65ms/step - g_loss: 1.5315 - d_loss: 0.3948\n",
            "Epoch 4/20\n",
            "1094/1094 [==============================] - 71s 65ms/step - g_loss: 1.9367 - d_loss: 0.2992\n",
            "Epoch 5/20\n",
            "1094/1094 [==============================] - 72s 65ms/step - g_loss: 1.0075 - d_loss: 0.6108\n",
            "Epoch 6/20\n",
            "1094/1094 [==============================] - 71s 65ms/step - g_loss: 0.9376 - d_loss: 0.6313\n",
            "Epoch 7/20\n",
            "1094/1094 [==============================] - 72s 65ms/step - g_loss: 0.8694 - d_loss: 0.6519\n",
            "Epoch 8/20\n",
            "1094/1094 [==============================] - 71s 65ms/step - g_loss: 0.8519 - d_loss: 0.6540\n",
            "Epoch 9/20\n",
            "1094/1094 [==============================] - 71s 65ms/step - g_loss: 0.8227 - d_loss: 0.6591\n",
            "Epoch 10/20\n",
            "1094/1094 [==============================] - 71s 65ms/step - g_loss: 0.8152 - d_loss: 0.6595\n",
            "Epoch 11/20\n",
            "1094/1094 [==============================] - 71s 65ms/step - g_loss: 0.8018 - d_loss: 0.6624\n",
            "Epoch 12/20\n",
            "1094/1094 [==============================] - 71s 65ms/step - g_loss: 0.7962 - d_loss: 0.6636\n",
            "Epoch 13/20\n",
            "1094/1094 [==============================] - 71s 65ms/step - g_loss: 0.8071 - d_loss: 0.6586\n",
            "Epoch 14/20\n",
            "1094/1094 [==============================] - 71s 65ms/step - g_loss: 0.8086 - d_loss: 0.6603\n",
            "Epoch 15/20\n",
            "1094/1094 [==============================] - 72s 65ms/step - g_loss: 0.7855 - d_loss: 0.6664\n",
            "Epoch 16/20\n",
            "1094/1094 [==============================] - 71s 65ms/step - g_loss: 0.8004 - d_loss: 0.6612\n",
            "Epoch 17/20\n",
            "1094/1094 [==============================] - 71s 65ms/step - g_loss: 0.7850 - d_loss: 0.6639\n",
            "Epoch 18/20\n",
            "1094/1094 [==============================] - 71s 65ms/step - g_loss: 0.8023 - d_loss: 0.6538\n",
            "Epoch 19/20\n",
            "1094/1094 [==============================] - 71s 65ms/step - g_loss: 0.8066 - d_loss: 0.6496\n",
            "Epoch 20/20\n",
            "1094/1094 [==============================] - 71s 65ms/step - g_loss: 0.7941 - d_loss: 0.6523\n"
          ]
        },
        {
          "output_type": "execute_result",
          "data": {
            "text/plain": [
              "<keras.callbacks.History at 0x7f4a305d3750>"
            ]
          },
          "metadata": {},
          "execution_count": 9
        }
      ],
      "source": [
        "cond_gan = ConditionalGAN(\n",
        "    discriminator=discriminator, generator=generator, latent_dim=latent_dim\n",
        ")\n",
        "cond_gan.compile(\n",
        "    d_optimizer=keras.optimizers.Adam(learning_rate=0.0003),\n",
        "    g_optimizer=keras.optimizers.Adam(learning_rate=0.0003),\n",
        "    loss_fn=keras.losses.BinaryCrossentropy(from_logits=True),\n",
        ") \n",
        "\n",
        "#cond_gan.fit(dataset, epochs=20)"
      ]
    },
    {
      "cell_type": "markdown",
      "source": [
        "## Loading trained parameter to save time"
      ],
      "metadata": {
        "id": "zK1R3gYyJeLT"
      },
      "id": "zK1R3gYyJeLT"
    },
    {
      "cell_type": "code",
      "source": [
        "!git clone https://github.com/enjoy-365/AI_Programming_2022.git\n",
        "cond_gan.load_weights('/content/AI_Programming_2022/week_10/weights/cond_gan/')"
      ],
      "metadata": {
        "id": "JzcFaPwgNCU7"
      },
      "id": "JzcFaPwgNCU7",
      "execution_count": null,
      "outputs": []
    },
    {
      "cell_type": "markdown",
      "id": "bfdc6775",
      "metadata": {
        "id": "bfdc6775"
      },
      "source": [
        "### Interpolating between classes with the trained generator"
      ]
    },
    {
      "cell_type": "code",
      "execution_count": null,
      "id": "0c67dc1f",
      "metadata": {
        "id": "0c67dc1f"
      },
      "outputs": [],
      "source": [
        "# We first extract the trained generator from our Conditiona GAN.\n",
        "trained_gen = cond_gan.generator\n",
        "\n",
        "# Choose the number of intermediate images that would be generated in\n",
        "# between the interpolation + 2 (start and last images).\n",
        "num_interpolation = 9  # @param {type:\"integer\"}\n",
        "\n",
        "# Sample noise for the interpolation.\n",
        "interpolation_noise = tf.random.normal(shape=(1, latent_dim))\n",
        "interpolation_noise = tf.repeat(interpolation_noise, repeats=num_interpolation)\n",
        "interpolation_noise = tf.reshape(interpolation_noise, (num_interpolation, latent_dim))\n",
        "\n",
        "\n",
        "def interpolate_class(first_number, second_number):\n",
        "    # Convert the start and end labels to one-hot encoded vectors.\n",
        "    first_label = keras.utils.to_categorical([first_number], num_classes)\n",
        "    second_label = keras.utils.to_categorical([second_number], num_classes)\n",
        "    first_label = tf.cast(first_label, tf.float32)\n",
        "    second_label = tf.cast(second_label, tf.float32)\n",
        "\n",
        "    # Calculate the interpolation vector between the two labels.\n",
        "    percent_second_label = tf.linspace(0, 1, num_interpolation)[:, None]\n",
        "    percent_second_label = tf.cast(percent_second_label, tf.float32)\n",
        "    interpolation_labels = (\n",
        "        first_label * (1 - percent_second_label) + second_label * percent_second_label\n",
        "    )\n",
        "\n",
        "    # Combine the noise and the labels and run inference with the generator.\n",
        "    noise_and_labels = tf.concat([interpolation_noise, interpolation_labels], 1)\n",
        "    fake = trained_gen.predict(noise_and_labels)\n",
        "    return fake\n",
        "\n",
        "\n",
        "start_class = 1  # @param {type:\"slider\", min:0, max:9, step:1}\n",
        "end_class = 5  # @param {type:\"slider\", min:0, max:9, step:1}\n",
        "\n",
        "fake_images = interpolate_class(start_class, end_class)"
      ]
    },
    {
      "cell_type": "code",
      "execution_count": null,
      "id": "5fafcc20",
      "metadata": {
        "colab": {
          "base_uri": "https://localhost:8080/",
          "height": 116
        },
        "id": "5fafcc20",
        "outputId": "c4b489f3-4fc4-4559-e7ad-92b14247c721"
      },
      "outputs": [
        {
          "output_type": "execute_result",
          "data": {
            "text/plain": [
              "<IPython.core.display.HTML object>"
            ],
            "text/html": [
              "<img src=\"data:image/gif;base64,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\"/>"
            ]
          },
          "metadata": {},
          "execution_count": 131
        }
      ],
      "source": [
        "fake_images *= 255.0\n",
        "converted_images = fake_images.astype(np.uint8)\n",
        "converted_images = tf.image.resize(converted_images, (96, 96)).numpy().astype(np.uint8)\n",
        "imageio.mimsave(\"animation.gif\", converted_images, fps=1)\n",
        "embed.embed_file(\"animation.gif\")"
      ]
    },
    {
      "cell_type": "code",
      "source": [
        ""
      ],
      "metadata": {
        "id": "nDECA_3OJR5W"
      },
      "id": "nDECA_3OJR5W",
      "execution_count": null,
      "outputs": []
    }
  ],
  "metadata": {
    "kernelspec": {
      "display_name": "Python 3 (ipykernel)",
      "language": "python",
      "name": "python3"
    },
    "language_info": {
      "codemirror_mode": {
        "name": "ipython",
        "version": 3
      },
      "file_extension": ".py",
      "mimetype": "text/x-python",
      "name": "python",
      "nbconvert_exporter": "python",
      "pygments_lexer": "ipython3",
      "version": "3.9.12"
    },
    "colab": {
      "name": "10-2) CGAN.ipynb",
      "provenance": [],
      "collapsed_sections": [],
      "include_colab_link": true
    },
    "accelerator": "GPU"
  },
  "nbformat": 4,
  "nbformat_minor": 5
}